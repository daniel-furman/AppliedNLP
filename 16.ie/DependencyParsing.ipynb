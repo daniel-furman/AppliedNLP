{
  "nbformat": 4,
  "nbformat_minor": 0,
  "metadata": {
    "kernelspec": {
      "display_name": "Python 3",
      "language": "python",
      "name": "python3"
    },
    "language_info": {
      "codemirror_mode": {
        "name": "ipython",
        "version": 3
      },
      "file_extension": ".py",
      "mimetype": "text/x-python",
      "name": "python",
      "nbconvert_exporter": "python",
      "pygments_lexer": "ipython3",
      "version": "3.8.8"
    },
    "colab": {
      "name": "DependencyParsing.ipynb",
      "provenance": []
    }
  },
  "cells": [
    {
      "cell_type": "markdown",
      "metadata": {
        "id": "DBVFhCe89Kzd"
      },
      "source": [
        "This notebook explores relation extraction by measuring common dependency paths between two entities that hold a given relation to each other -- here, the relation \"born_in\" between a PER entity and an GPE entity, using data from Wikipedia biographies."
      ]
    },
    {
      "cell_type": "code",
      "metadata": {
        "colab": {
          "base_uri": "https://localhost:8080/"
        },
        "id": "DNg8UWD59UAk",
        "outputId": "f93d7b7c-1806-4cdf-d8a8-68b3b700e98f"
      },
      "source": [
        "!pip install spacy==2.1.0\n",
        "!python -m spacy download en_core_web_sm\n",
        "!pip install neuralcoref --no-binary neuralcoref"
      ],
      "execution_count": 1,
      "outputs": [
        {
          "output_type": "stream",
          "name": "stdout",
          "text": [
            "Requirement already satisfied: spacy==2.1.0 in /usr/local/lib/python3.7/dist-packages (2.1.0)\n",
            "Requirement already satisfied: plac<1.0.0,>=0.9.6 in /usr/local/lib/python3.7/dist-packages (from spacy==2.1.0) (0.9.6)\n",
            "Requirement already satisfied: cymem<2.1.0,>=2.0.2 in /usr/local/lib/python3.7/dist-packages (from spacy==2.1.0) (2.0.6)\n",
            "Requirement already satisfied: thinc<7.1.0,>=7.0.2 in /usr/local/lib/python3.7/dist-packages (from spacy==2.1.0) (7.0.8)\n",
            "Requirement already satisfied: blis<0.3.0,>=0.2.2 in /usr/local/lib/python3.7/dist-packages (from spacy==2.1.0) (0.2.4)\n",
            "Requirement already satisfied: jsonschema<3.0.0,>=2.6.0 in /usr/local/lib/python3.7/dist-packages (from spacy==2.1.0) (2.6.0)\n",
            "Requirement already satisfied: numpy>=1.15.0 in /usr/local/lib/python3.7/dist-packages (from spacy==2.1.0) (1.19.5)\n",
            "Requirement already satisfied: wasabi<1.1.0,>=0.0.12 in /usr/local/lib/python3.7/dist-packages (from spacy==2.1.0) (0.8.2)\n",
            "Requirement already satisfied: murmurhash<1.1.0,>=0.28.0 in /usr/local/lib/python3.7/dist-packages (from spacy==2.1.0) (1.0.6)\n",
            "Requirement already satisfied: srsly<1.1.0,>=0.0.5 in /usr/local/lib/python3.7/dist-packages (from spacy==2.1.0) (1.0.5)\n",
            "Requirement already satisfied: preshed<2.1.0,>=2.0.1 in /usr/local/lib/python3.7/dist-packages (from spacy==2.1.0) (2.0.1)\n",
            "Requirement already satisfied: requests<3.0.0,>=2.13.0 in /usr/local/lib/python3.7/dist-packages (from spacy==2.1.0) (2.23.0)\n",
            "Requirement already satisfied: certifi>=2017.4.17 in /usr/local/lib/python3.7/dist-packages (from requests<3.0.0,>=2.13.0->spacy==2.1.0) (2021.10.8)\n",
            "Requirement already satisfied: chardet<4,>=3.0.2 in /usr/local/lib/python3.7/dist-packages (from requests<3.0.0,>=2.13.0->spacy==2.1.0) (3.0.4)\n",
            "Requirement already satisfied: idna<3,>=2.5 in /usr/local/lib/python3.7/dist-packages (from requests<3.0.0,>=2.13.0->spacy==2.1.0) (2.10)\n",
            "Requirement already satisfied: urllib3!=1.25.0,!=1.25.1,<1.26,>=1.21.1 in /usr/local/lib/python3.7/dist-packages (from requests<3.0.0,>=2.13.0->spacy==2.1.0) (1.25.11)\n",
            "Requirement already satisfied: tqdm<5.0.0,>=4.10.0 in /usr/local/lib/python3.7/dist-packages (from thinc<7.1.0,>=7.0.2->spacy==2.1.0) (4.62.3)\n",
            "Collecting en_core_web_sm==2.1.0\n",
            "  Downloading https://github.com/explosion/spacy-models/releases/download/en_core_web_sm-2.1.0/en_core_web_sm-2.1.0.tar.gz (11.1 MB)\n",
            "\u001b[K     |████████████████████████████████| 11.1 MB 5.0 MB/s \n",
            "\u001b[?25h\u001b[38;5;2m✔ Download and installation successful\u001b[0m\n",
            "You can now load the model via spacy.load('en_core_web_sm')\n",
            "Requirement already satisfied: neuralcoref in /usr/local/lib/python3.7/dist-packages (4.0)\n",
            "Requirement already satisfied: numpy>=1.15.0 in /usr/local/lib/python3.7/dist-packages (from neuralcoref) (1.19.5)\n",
            "Requirement already satisfied: boto3 in /usr/local/lib/python3.7/dist-packages (from neuralcoref) (1.20.12)\n",
            "Requirement already satisfied: requests<3.0.0,>=2.13.0 in /usr/local/lib/python3.7/dist-packages (from neuralcoref) (2.23.0)\n",
            "Requirement already satisfied: spacy>=2.1.0 in /usr/local/lib/python3.7/dist-packages (from neuralcoref) (2.1.0)\n",
            "Requirement already satisfied: certifi>=2017.4.17 in /usr/local/lib/python3.7/dist-packages (from requests<3.0.0,>=2.13.0->neuralcoref) (2021.10.8)\n",
            "Requirement already satisfied: idna<3,>=2.5 in /usr/local/lib/python3.7/dist-packages (from requests<3.0.0,>=2.13.0->neuralcoref) (2.10)\n",
            "Requirement already satisfied: chardet<4,>=3.0.2 in /usr/local/lib/python3.7/dist-packages (from requests<3.0.0,>=2.13.0->neuralcoref) (3.0.4)\n",
            "Requirement already satisfied: urllib3!=1.25.0,!=1.25.1,<1.26,>=1.21.1 in /usr/local/lib/python3.7/dist-packages (from requests<3.0.0,>=2.13.0->neuralcoref) (1.25.11)\n",
            "Requirement already satisfied: jsonschema<3.0.0,>=2.6.0 in /usr/local/lib/python3.7/dist-packages (from spacy>=2.1.0->neuralcoref) (2.6.0)\n",
            "Requirement already satisfied: cymem<2.1.0,>=2.0.2 in /usr/local/lib/python3.7/dist-packages (from spacy>=2.1.0->neuralcoref) (2.0.6)\n",
            "Requirement already satisfied: blis<0.3.0,>=0.2.2 in /usr/local/lib/python3.7/dist-packages (from spacy>=2.1.0->neuralcoref) (0.2.4)\n",
            "Requirement already satisfied: srsly<1.1.0,>=0.0.5 in /usr/local/lib/python3.7/dist-packages (from spacy>=2.1.0->neuralcoref) (1.0.5)\n",
            "Requirement already satisfied: thinc<7.1.0,>=7.0.2 in /usr/local/lib/python3.7/dist-packages (from spacy>=2.1.0->neuralcoref) (7.0.8)\n",
            "Requirement already satisfied: murmurhash<1.1.0,>=0.28.0 in /usr/local/lib/python3.7/dist-packages (from spacy>=2.1.0->neuralcoref) (1.0.6)\n",
            "Requirement already satisfied: wasabi<1.1.0,>=0.0.12 in /usr/local/lib/python3.7/dist-packages (from spacy>=2.1.0->neuralcoref) (0.8.2)\n",
            "Requirement already satisfied: plac<1.0.0,>=0.9.6 in /usr/local/lib/python3.7/dist-packages (from spacy>=2.1.0->neuralcoref) (0.9.6)\n",
            "Requirement already satisfied: preshed<2.1.0,>=2.0.1 in /usr/local/lib/python3.7/dist-packages (from spacy>=2.1.0->neuralcoref) (2.0.1)\n",
            "Requirement already satisfied: tqdm<5.0.0,>=4.10.0 in /usr/local/lib/python3.7/dist-packages (from thinc<7.1.0,>=7.0.2->spacy>=2.1.0->neuralcoref) (4.62.3)\n",
            "Requirement already satisfied: botocore<1.24.0,>=1.23.12 in /usr/local/lib/python3.7/dist-packages (from boto3->neuralcoref) (1.23.12)\n",
            "Requirement already satisfied: s3transfer<0.6.0,>=0.5.0 in /usr/local/lib/python3.7/dist-packages (from boto3->neuralcoref) (0.5.0)\n",
            "Requirement already satisfied: jmespath<1.0.0,>=0.7.1 in /usr/local/lib/python3.7/dist-packages (from boto3->neuralcoref) (0.10.0)\n",
            "Requirement already satisfied: python-dateutil<3.0.0,>=2.1 in /usr/local/lib/python3.7/dist-packages (from botocore<1.24.0,>=1.23.12->boto3->neuralcoref) (2.8.2)\n",
            "Requirement already satisfied: six>=1.5 in /usr/local/lib/python3.7/dist-packages (from python-dateutil<3.0.0,>=2.1->botocore<1.24.0,>=1.23.12->boto3->neuralcoref) (1.15.0)\n"
          ]
        }
      ]
    },
    {
      "cell_type": "code",
      "metadata": {
        "id": "-WnaKS9G9Kzg"
      },
      "source": [
        "import re\n",
        "import spacy\n",
        "import neuralcoref\n",
        "from collections import Counter"
      ],
      "execution_count": 2,
      "outputs": []
    },
    {
      "cell_type": "code",
      "metadata": {
        "id": "gDa6tstt9Kzi"
      },
      "source": [
        "# nlp = spacy.load('en')\n",
        "# workaround if you are getting an error loading the sapcy 'en' module:\n",
        "nlp = spacy.load('en_core_web_sm')\n",
        "coref = neuralcoref.NeuralCoref(nlp.vocab)\n",
        "nlp.add_pipe(coref, name='neuralcoref')"
      ],
      "execution_count": 3,
      "outputs": []
    },
    {
      "cell_type": "code",
      "metadata": {
        "id": "HDZYtvKD9Kzi"
      },
      "source": [
        "def get_path(one, two):\n",
        "    \n",
        "    \"\"\" Get dependency path between two tokens in a sentence; return None if not reachable \"\"\"\n",
        "    \n",
        "    one_heads=[x for x in one.ancestors]\n",
        "    two_heads=[x for x in two.ancestors]\n",
        "    \n",
        "    up_path=[]\n",
        "    down_path=[]\n",
        "    up_path.append(one)\n",
        "    down_path.append(two)\n",
        "    \n",
        "    lca=None\n",
        "    for head in one_heads:\n",
        "        if head in two_heads:\n",
        "            lca=head\n",
        "            break\n",
        "            \n",
        "        up_path.append(head)\n",
        "\n",
        "    for head in two_heads:\n",
        "        if head == lca:\n",
        "            break\n",
        "    \n",
        "        down_path.append(head)\n",
        "   \n",
        "    if lca is None:\n",
        "        return None\n",
        "    \n",
        "    path=\"%s->%s<-%s\" % ('->'.join([\"%s\" % x.dep_ for x in up_path]), lca.text, '<-'.join([\"%s\" % x.dep_ for x in reversed(down_path)]))\n",
        "    return path"
      ],
      "execution_count": 4,
      "outputs": []
    },
    {
      "cell_type": "code",
      "metadata": {
        "id": "lKkdf21k9Kzj"
      },
      "source": [
        "def get_closest_coref(entity1, clusters, target_entity):\n",
        "    \n",
        "    \"\"\" Given entities e1 and mention m2 of another entity, returns the mention for e1 closest to m2 \"\"\"\n",
        "    \n",
        "    targetCluster=None\n",
        "    for chain in clusters:\n",
        "        for mention in chain.mentions:\n",
        "            if mention.start <= entity1.start and mention.end >= entity1.end:\n",
        "                targetCluster=chain\n",
        "                break\n",
        "\n",
        "    if targetCluster is None:\n",
        "        return None\n",
        "\n",
        "    closestMention=None\n",
        "    dist=100\n",
        "    for mention in targetCluster:\n",
        "            sentDist=abs(target_entity.sent.start-mention.sent.start)\n",
        "            if sentDist < dist:\n",
        "                dist=sentDist\n",
        "                closestMention=mention\n",
        "            if sentDist == dist and closestMention is not None: \n",
        "                if abs(target_entity.start-mention.start) < abs(target_entity.start-closestMention.start):\n",
        "                    closetMention=mention\n",
        "    return closestMention\n",
        "                "
      ],
      "execution_count": 5,
      "outputs": []
    },
    {
      "cell_type": "markdown",
      "metadata": {
        "id": "SlXRSQj39Kzk"
      },
      "source": [
        "Q1. In class activity: here's [a Google spreadsheet](https://docs.google.com/spreadsheets/d/1PNDInP5JIqad9mOXwRUxGDZntvoUerX22QQcgFCJDxY/edit?usp=sharing) with the first 5 sentences from ~500 Wikipedia biographies.  Pick 10 rows of this spreadsheet and put your student ID in the \"Student ID\" column; then go through those 20 rows and read the document. If you can infer that a person from the People column was born in a place in the Places column, list that person in the \"PER BORN\" column and the place in the \"PLACE BORN\" column."
      ]
    },
    {
      "cell_type": "code",
      "metadata": {
        "id": "NkowlzBa9Kzk"
      },
      "source": [
        "def read_training(filename):\n",
        "    \n",
        "    \"\"\" Read in training data for <person, place> tuples that express the \"born_in\" relation.\n",
        "    \n",
        "    -- Use coreference resolution to identity the person mention closest to the place mention.\n",
        "    -- Use dependency parsing to extract the syntactic path from that person mention to the place.\n",
        "    \n",
        "    \"\"\"\n",
        "    \n",
        "    data=[]\n",
        "    with open(filename) as file:\n",
        "        for line in file:\n",
        "            cols=line.split(\"\\t\")\n",
        "            idd=cols[0]\n",
        "            doc=cols[1]\n",
        "            pers=cols[4]\n",
        "            place=cols[5].rstrip()\n",
        "            \n",
        "            if pers != \"\" and place != \"\":\n",
        "                doc=nlp(doc)\n",
        "\n",
        "                target_person=None\n",
        "                target_place=None\n",
        "                \n",
        "                # Annotations are at the type level, so let's anchor them to specific mentions\n",
        "                for entity in doc.ents:\n",
        "                    if entity.text == pers:\n",
        "                        target_person=entity\n",
        "                    elif entity.text == place:\n",
        "                        target_place=entity\n",
        "                \n",
        "                if target_person is not None and target_place is not None:\n",
        "                    \n",
        "                    # Use coreference to get person mention that's closest to the place (ideally in the same sentence).\n",
        "                    closest_person_mention=get_closest_coref(target_person, doc._.coref_clusters, target_place)\n",
        "                    if closest_person_mention is None:\n",
        "                        closest_person_mention=target_person\n",
        "                    \n",
        "                    path=get_path(closest_person_mention.root, target_place.root)\n",
        "                    \n",
        "                    # if a path can be found between the two\n",
        "                    if path is not None:\n",
        "                        data.append((pers, place, path, target_place.sent ))\n",
        "    return data     "
      ],
      "execution_count": 6,
      "outputs": []
    },
    {
      "cell_type": "markdown",
      "metadata": {
        "id": "yKWmcUMh9Kzl"
      },
      "source": [
        "Save this Google sheet as a tsv in `data/born.tsv` and execute the `read_training` function on it to read in the <person, place> tuples."
      ]
    },
    {
      "cell_type": "code",
      "metadata": {
        "colab": {
          "base_uri": "https://localhost:8080/"
        },
        "id": "9WCJgzLo9Kzm",
        "outputId": "2e451859-5b0b-4052-e024-812144e48ae8"
      },
      "source": [
        "trainingData=read_training(\"../data/born.tsv\")\n",
        "for data in trainingData:\n",
        "    print ('\\t'.join([str(x) for x in data]))"
      ],
      "execution_count": 7,
      "outputs": [
        {
          "output_type": "stream",
          "name": "stdout",
          "text": [
            "Hutchinson\tAlford\tnsubjpass->born<-prep<-pobj\tHutchinson was born in Alford , Lincolnshire , England , the daughter of Francis Marbury , an Anglican cleric and school teacher who gave her a far better education than most other girls received .\n",
            "William Henry Seward\tFlorida\tnsubjpass->born<-prep<-pobj\tSeward was born in Florida , Orange County , New York , where his father was a farmer and owned slaves .\n",
            "Konrad Henlein\tMaffersdorf\tnsubjpass->born<-prep<-pobj\tKonrad Henlein was born in Maffersdorf ( present-day Vratislavice nad Nisou ) near Reichenberg ( Liberec ) , in what was then the Bohemian crown land of Austria-Hungary .\n",
            "Robert Sylvester Kelly\tChicago\tnsubj->began<-advcl<-prep<-pobj\tA native of Chicago , Kelly began performing during the late 1980s and debuted in 1992 with the group Public Announcement .\n",
            "Alastair Nathan Cook\tEngland\tnsubjpass->regarded<-prep<-pobj<-prep<-pobj<-relcl<-prep<-pobj\tHe is regarded as one of the greatest batsmen ever to play for England , and is one of the most prolific batsmen of the modern era .\n",
            "Michael Kaine\tSt. Paul\tnsubj->grew<-advcl<-prep<-pobj\tBorn in St. Paul , Minnesota , Kaine grew up in Overland Park , Kansas , graduated from the University of Missouri , and earned a J.D .\n",
            "Adam Mitchel Lambert\tU.S.\tnsubj->released<-prep<-pobj<-relcl<-prep<-pobj\tLater that year , he released his debut album , `` For Your Entertainment '' , which debuted at number three on the U.S. `` Billboard '' 200 .\n",
            "Sonia Maria Sotomayor\tBronx\tnsubjpass->born<-prep<-pobj\tSotomayor was born in The Bronx , New York City , to Puerto Rican-born parents .\n",
            "Peter Gary Tatchell\tAustralia\tnsubj->is<-attr<-prep<-pobj\tPeter Gary Tatchell ( born 25 January 1952 ) is a British human rights campaigner , originally from Australia , best known for his work with LGBT social movements .\n",
            "Maurice Yaméogo\tthe Republic of Upper Volta\tnsubj->was<-attr<-prep<-pobj\tMaurice Yaméogo ( 31 December 1921 – 15 September 1993 ) was the first President of the Republic of Upper Volta , now called Burkina Faso , from 1959 until 1966 .\n",
            "Augustus Heinrich Petermann\tBleicherode\tnsubjpass->born<-prep<-pobj\tPetermann was born in Bleicherode , Germany .\n",
            "Alfred Joseph Hitchcock\tLondon\tnsubj->entered<-advcl<-prep<-pobj<-prep<-pobj\tBorn on the outskirts of London , Hitchcock entered the film industry in 1919 as a title card designer after training as a technical clerk and copy writer for a telegraph-cable company .\n",
            "Keith Ross Miller\tAustralia\tnsubjpass->regarded<-prep<-pobj<-poss\tMiller is widely regarded as Australia 's greatest ever all-rounder .\n",
            "Condoleezza Rice\tUnited States\tnsubj->served<-prep<-pobj<-nmod\tShe served as the 66th United States Secretary of State , the second person to hold that office in the administration of President George W. Bush .\n",
            "Christopher James Christie\tNewark\tnsubjpass->born<-prep<-pobj\tChristie was born in Newark and raised in Livingston .\n",
            "Benjamin Franklin\tthe United States\tnsubj->was<-attr<-conj<-prep<-pobj<-prep<-pobj\tBenjamin Franklin ( April 17 , 1790 ) was an American polymath and one of the Founding Fathers of the United States .\n",
            "Petermann\tBleicherode\tnsubjpass->born<-prep<-pobj\tPetermann was born in Bleicherode , Germany .\n",
            "Francisco Franco Bahamonde\tSpain\tnsubj->was<-attr<-relcl<-prep<-pobj\tFrancisco Franco Bahamonde ( ; ; 4 December 1892 – 20 November 1975 ) was a Spanish general who ruled over Spain as a military dictator from 1939 , after the nationalist victory in the Spanish Civil War , until his death in 1975 .\n",
            "Jawaharlal Nehru\tIndia\tnsubj->emerged<-conj<-dobj\tHe emerged as an eminent leader of the Indian independence movement under the tutelage of Mahatma Gandhi and served India as Prime Minister from its establishment as an independent nation in 1947 until his death in 1964 .\n",
            "Ayaan Hirsi Ali\tSomali\tnsubj->csubj->is<-attr<-amod<-npadvmod\tAyaan Hirsi Ali ( ; ; born Ayaan Hirsi Magan , 13 November 1969 ) is a Somali-born Dutch-American activist , feminist , author , scholar and former politician .\n",
            "Timothy Francis Leary\tthe United States\tnsubj->advcl->were<-prep<-pobj\tAs a clinical psychologist at Harvard University , Leary conducted experiments under the Harvard Psilocybin Project in 1960-62 ( LSD and psilocybin were still legal in the United States at the time ) , resulting in the Concord Prison Experiment and the Marsh Chapel Experiment .\n",
            "Tycho Brahe\tScania\tnsubjpass->born<-prep<-pobj<-prep<-pobj\tHe was born in the then Danish peninsula of Scania .\n",
            "Anne Hutchinson\tPuritan\tposs->nsubj->were<-prep<-pobj<-prep<-pobj<-compound\tHer strong religious convictions were at odds with the established Puritan clergy in the Boston area , and her popularity and charisma helped create a theological schism that threatened to destroy the Puritans ' religious community in New England .\n",
            "Warren\tLos Angeles\tnsubjpass->born<-prep<-pobj\tWarren was born in 1891 in Los Angeles and was raised in Bakersfield , California .\n",
            "Erich von Manstein\tGermany\tnsubj->rose<-conj<-prep<-pobj<-acl<-ccomp<-nsubj\tHe rose to the rank of captain by the end of the war and was active in the inter-war period helping Germany rebuild her armed forces .\n",
            "Joseph Maurice Ravel\tFrance\tnsubj->attended<-dobj<-poss\tBorn to a music-loving family , Ravel attended France 's premier music college , the Paris Conservatoire ; he was not well regarded by its conservative establishment , whose biased treatment of him caused a scandal .\n",
            "Jimmie Kenneth Johnson\tEl Cajon\tnsubjpass->born<-prep<-pobj\tJohnson was born in El Cajon , California , and began racing motorcycles at the age of four .\n",
            "John Winston Lennon\tLiverpool\tpobj->as<-pobj<-prep<-pobj\tHe was born as John Winston Lennon in Liverpool , where he became involved in the skiffle craze as a teenager .\n",
            "Donald John Trump\tNew York City\tnsubjpass->born<-conj<-prep<-pobj<-compound\tTrump was born and raised in the New York City borough of Queens .\n",
            "Katharine Cornell\tBerlin\tnsubjpass->born<-prep<-pobj\tShe was born in Berlin to American parents and raised in Buffalo , New York .\n",
            "King\tAtlanta\tnsubjpass->known<-advcl<-prep<-pobj\tBorn in Atlanta , King is best known for advancing civil rights through nonviolence and civil disobedience , tactics his Christian beliefs and the nonviolent activism of Mahatma Gandhi helped inspire .\n",
            "Brigid Lansbury\tRegents Park\tnsubjpass->born<-prep<-pobj<-appos<-prep<-pobj\tLansbury was born to Irish actress Moyna Macgill and English politician Edgar Lansbury , an upper-middle-class family in Regents Park , central London ; her paternal grandfather was the British Labour Party leader George Lansbury .\n",
            "Marshall\tFauquier County\tnsubjpass->born<-prep<-pobj\tMarshall was born in Fauquier County , Virginia in 1755 .\n",
            "Nancy Davis Reagan\tNew York City\tnsubjpass->born<-prep<-pobj\tShe was born in New York City .\n",
            "Jomo Kenyatta\tKenya\tnsubj->was<-conj<-prep<-pobj<-prep<-pobj\tHe was the country 's first indigenous head of government and played a significant role in the transformation of Kenya from a colony of the British Empire into an independent republic .\n",
            "Robyn Rihanna Fenty\tSaint Michael\tnsubjpass->discovered<-advcl<-prep<-pobj\tBorn in Saint Michael , Barbados , and raised in Bridgetown , she was discovered by American record producer Evan Rogers in her home country of Barbados in 2003 .\n",
            "Theodore Roosevelt Jr.\tNew York\tnsubj->served<-conj<-pobj<-prep<-pobj\tHe also served as the 25th Vice President of the United States from March to September 1901 and as the 33rd Governor of New York from 1899 to 1900 .\n",
            "Mikhail Sergeyevich Gorbachev\tthe Soviet Union\tnsubj->was<-advcl<-conj<-pobj<-prep<-pobj\tHe was the country 's head of state from 1988 until 1991 ( titled as Chairman of the Presidium of the Supreme Soviet from 1988 to 1989 , as Chairman of the Supreme Soviet from 1989 to 1990 , and as President of the Soviet Union from 1990 to 1991 ) .\n",
            "Katharine Cornell\tBerlin\tnsubjpass->born<-prep<-pobj\tShe was born in Berlin to American parents and raised in Buffalo , New York .\n",
            "Abbott\tLondon\tnsubjpass->born<-prep<-pobj\tAbbott was born in London to an Australian mother and a British father , and moved to Sydney at the age of two .\n",
            "William Wilberforce\tKingston\tnsubj->began<-advcl<-prep<-pobj\tA native of Kingston upon Hull , Yorkshire , he began his political career in 1780 , eventually becoming a Member of Parliament for Yorkshire ( 1784–1812 ) .\n",
            "Karim Mostafa Benzema\tLyon\tnsubjpass->born<-prep<-pobj<-prep<-pobj\tBenzema was born in the city of Lyon and began his football career with local club Bron Terraillon .\n",
            "Michael Collins\tWoodfield\tnsubjpass->born<-prep<-pobj\tCollins was born in Woodfield , County Cork , the youngest of eight children , and his family had republican connections reaching back to the 1798 rebellion .\n",
            "Hassan Sheikh Mohamud\tSomalia\tnsubj->was<-attr<-prep<-pobj\tHe was the 8th President of Somalia from 16 September 2012 until 16 February 2017 .\n",
            "Robert Sylvester Kelly\tChicago\tnsubj->began<-advcl<-prep<-pobj\tA native of Chicago , Kelly began performing during the late 1980s and debuted in 1992 with the group Public Announcement .\n",
            "Aamir Khan\tIndia\tnsubj->has<-dobj<-prep<-pobj\tHe has a significant following in India and China , and has been described by `` Newsweek '' as `` the biggest movie star '' in the world .\n",
            "William Phips\tthe Province of Massachusetts Bay\tnsubj->was<-attr<-acl<-prep<-pobj<-conj<-prep<-pobj\tSir William Phips ( or Phipps ; February 2 , 1651 – February 18 , 1695 ) was a shepherd boy born in the Massachusetts Bay Colony , a shipwright , ship 's captain , treasure hunter , a major general , and the first royally appointed governor of the Province of Massachusetts Bay .\n",
            "Gillard\tBarry\tnsubj->migrated<-advcl<-prep<-pobj\tBorn in Barry , Wales , Gillard migrated with her family to Adelaide , South Australia , in 1966 .\n",
            "Anthony John Abbott\tLondon\tnsubjpass->born<-prep<-pobj\tAbbott was born in London to an Australian mother and a British father , and moved to Sydney at the age of two .\n",
            "Paul Joseph Goebbels\tGermany\tnsubj->was<-attr<-conj<-prep<-pobj<-prep<-pobj\tPaul Joseph Goebbels ( ; 29 October 1897 – 1 May 1945 ) was a German Nazi politician and Reich Minister of Propaganda of Nazi Germany from 1933 to 1945 .\n",
            "William George Heirens\tIllinois\tnsubj->spent<-dobj<-prep<-pobj<-prep<-pobj<-prep<-pobj<-appos\tHe spent the later years of his sentence at the Dixon Correctional Center in Dixon , Illinois .\n",
            "William Morris\tWalthamstow\tnsubj->came<-advcl<-prep<-pobj\tBorn in Walthamstow , Essex , to a wealthy middle-class family , Morris came under the strong influence of medievalism while studying Classics at Oxford University , there joining the Birmingham Set .\n",
            "Rodney Stephen Steiger\tWesthampton\tnsubjpass->born<-prep<-pobj\tSteiger was born in Westhampton , New York , the son of a vaudevillian .\n",
            "Frederick Sewards Trueman\tStainton\tnsubjpass->born<-prep<-pobj\tHe was born in Stainton , West Riding of Yorkshire , and died in Steeton with Eastburn , West Yorkshire .\n",
            "Francisco Franco Bahamonde\tSpain\tnsubj->was<-attr<-relcl<-prep<-pobj\tFrancisco Franco Bahamonde ( ; ; 4 December 1892 – 20 November 1975 ) was a Spanish general who ruled over Spain as a military dictator from 1939 , after the nationalist victory in the Spanish Civil War , until his death in 1975 .\n",
            "Marx\tTrier\tnpadvmod->amod->dep->Born<-prep<-pobj\tBorn in Trier , Germany , to a Jewish middle-class family , Marx studied law and philosophy at university .\n",
            "Earl Warren\tLos Angeles\tnsubjpass->born<-prep<-pobj\tWarren was born in 1891 in Los Angeles and was raised in Bakersfield , California .\n",
            "Luis Alberto Suárez Díaz\tUruguay\tnsubj->won<-conj<-prep<-pobj\tOften regarded as one of the best players in the world , Suárez has won 17 trophies in his career , including five league titles and a UEFA Champions League title at club level , and a Copa América with Uruguay .\n",
            "Julia Eileen Gillard\tWales\tnsubj->migrated<-advcl<-prep<-pobj<-conj\tBorn in Barry , Wales , Gillard migrated with her family to Adelaide , South Australia , in 1966 .\n",
            "Frederick Sewards Trueman\tStainton\tnsubjpass->born<-prep<-pobj\tHe was born in Stainton , West Riding of Yorkshire , and died in Steeton with Eastburn , West Yorkshire .\n",
            "Jeffrey Koons\tPennsylvania\tnsubj->lives<-conj<-prep<-pobj<-conj<-prep<-pobj<-appos\tHe lives and works in both New York City and his hometown of York , Pennsylvania .\n",
            "Seward\tFlorida\tnsubjpass->born<-prep<-pobj\tSeward was born in Florida , Orange County , New York , where his father was a farmer and owned slaves .\n",
            "Joseph Michael Arpaio\tAmerica\tnsubj->styled<-prep<-pobj<-poss\tArpaio styled himself as `` America 's Toughest Sheriff '' .\n",
            "Edward Scott Pruitt\tOklahoma\tnsubj->is<-attr<-prep<-pobj<-prep<-pobj\tEdward Scott Pruitt ( born May 9 , 1968 ) is an American lawyer and Republican politician from the state of Oklahoma .\n",
            "Louis Pierre Althusser\tAlgeria\tnsubjpass->born<-prep<-pobj\tHe was born in Algeria and studied at the École Normale Supérieure in Paris , where he eventually became Professor of Philosophy .\n",
            "Irving Berlin\tImperial Russia\tnsubj->arrived<-advcl<-prep<-pobj\tBorn in Imperial Russia , Berlin arrived in the United States at the age of five .\n",
            "Nash\tAustralia\tnsubj->was<-attr<-conj<-dobj<-relcl<-prep<-pobj\tIn cricket , Nash was a fast bowler and hard hitting lower order batsman who played two Test matches for Australia , taking 10 wickets at 12.80 runs per wicket , and scoring 30 runs at a batting average of 15 .\n",
            "John Richard Kasich Jr.\tPittsburgh\tnsubj->lived<-nsubj<-prep<-pobj\tA native of Pittsburgh , Pennsylvania , Kasich has lived much of his adulthood in Ohio , specifically the state capital of Columbus .\n",
            "Frederick Russell Burnham DSO\tMinnesota\tnsubj->relcl->reservation<-prep<-pobj\tBurnham was born on a Dakota Sioux Indian reservation in Minnesota where he learned the ways of American Indians as a boy .\n",
            "Edward Gough Whitlam\tAustralia\tnsubj->won<-prep<-pcomp<-agent<-pobj<-prep<-pobj\tHe won the 1974 election before being controversially dismissed by the Governor-General of Australia , Sir John Kerr , at the climax of the 1975 Australian constitutional crisis .\n",
            "Ian Douglas Smith\tRhodesia\tdobj->ccomp->remains<-nsubj<-relcl<-prep<-pcomp<-dobj\tSmith , who has been described as personifying white Rhodesia , remains a highly controversial figure—supporters venerate him as a man of integrity and vision `` who understood the uncomfortable truths of Africa '' , while critics describe an unrepentant racist whose policies and actions caused the deaths of thousands and contributed to Zimbabwe 's later crises .\n",
            "Aafia Siddiqui\tPakistan\tnsubjpass->born<-prep<-pobj\tSiddiqui was born in Pakistan to a Deobandi Muslim family .\n",
            "Johann Mickl\tAustro\tnsubjpass->commissioned<-conj<-prep<-pobj<-amod<-compound\tHe was commissioned shortly before the outbreak of World War I , and served with Austro-Hungarian forces on the Eastern and Italian Fronts as company commander in the Imperial-Royal Mountain Troops .\n",
            "Josephine Sarah\tNew York\tnsubjpass->born<-prep<-pobj\tJosephine was born in New York to a Prussian Jewish family ; her father was a baker .\n",
            "Rodney Stephen Steiger\tNew York\tnsubjpass->born<-prep<-pobj<-appos\tSteiger was born in Westhampton , New York , the son of a vaudevillian .\n",
            "Burnham\tMinnesota\tnsubjpass->born<-prep<-pobj<-prep<-pobj\tBurnham was born on a Dakota Sioux Indian reservation in Minnesota where he learned the ways of American Indians as a boy .\n",
            "Joseph Rudyard Kipling\tIndia\tnsubjpass->born<-prep<-pobj\tHe was born in India , which inspired much of his work .\n",
            "Joseph Rudyard Kipling\tIndia\tnsubjpass->born<-prep<-pobj\tHe was born in India , which inspired much of his work .\n",
            "Ahmet Davutoğlu\tTurkey\tnsubj->is<-attr<-relcl<-attr<-prep<-pobj\tAhmet Davutoğlu ( ; born 26 February 1959 ) is a Turkish academic , politician and former diplomat who was the Prime Minister of Turkey and leader of the Justice and Development Party ( AKP ) from August 2014 to May 2016 .\n",
            "Roderick David Stewart\tLondon\tnsubj->is<-advcl<-conj<-prep<-pobj\tBorn and raised in London , he is of Scottish and English ancestry .\n",
            "Suharto\tIndonesia\tnsubj->csubj->was<-attr<-relcl<-prep<-pobj<-prep<-pobj\tSuharto ( also written Soeharto , ; 8 June 1921 – 27 January 2008 ) was an Indonesian military leader and politician who served as the second President of Indonesia , holding the office for 31 years , from the ousting of Sukarno in 1967 until his resignation in 1998 .\n",
            "Sonia Maria Sotomayor\tBronx\tnsubjpass->born<-prep<-pobj\tSotomayor was born in The Bronx , New York City , to Puerto Rican-born parents .\n",
            "Charles Spencer Chaplin\tLondon\tposs->childhood<-prep<-pobj\tChaplin 's childhood in London was one of poverty and hardship .\n",
            "Roderick David Stewart\tLondon\tnsubj->is<-advcl<-conj<-prep<-pobj\tBorn and raised in London , he is of Scottish and English ancestry .\n",
            "Beyoncé\tHouston\tappos->pobj->in<-pobj\tBorn and raised in Houston , Texas , Beyoncé performed in various singing and dancing competitions as a child .\n",
            "Archibald Campbell MacLaren\tEngland\tnsubj->played<-prep<-pobj\tA right-handed batsman , he played 35 Test matches for England , as captain in 22 of those games , and led the team to defeat in four Ashes series against Australia .\n",
            "Omar Ahmed Sayid Khadr\tCanada\tnsubjpass->taken<-advcl<-prep<-pobj\tBorn in Canada , Khadr was taken to Afghanistan by his father , who was affiliated with Al-Qaeda and other terrorist organizations .\n",
            "Donald John Trump\tNew York City\tnsubjpass->born<-conj<-prep<-pobj<-compound\tTrump was born and raised in the New York City borough of Queens .\n",
            "George Stanley McGovern\tSouth Dakota\tnsubj->grew<-prep<-pobj<-appos\tMcGovern grew up in Mitchell , South Dakota , where he was a renowned debater .\n",
            "Josephine Sarah\tNew York\tnsubjpass->born<-prep<-pobj\tJosephine was born in New York to a Prussian Jewish family ; her father was a baker .\n",
            "Margaret Alice Murray\tCalcutta\tnsubj->divided<-advcl<-prep<-pobj<-prep<-pobj\tBorn to a wealthy middle-class English family in Calcutta , British India , Murray divided her youth between India , Britain , and Germany , training as both a nurse and a social worker .\n",
            "William Edward Burghardt Du Bois\tGreat Barrington\tnsubj->grew<-advcl<-prep<-pobj\tBorn in Great Barrington , Massachusetts , Du Bois grew up in a relatively tolerant and integrated community .\n",
            "Roberto Luongo\tMontreal\tnsubj->is<-advcl<-prep<-pobj\tBorn in Montreal , Quebec , he is of Italian and Irish ancestry .\n",
            "John Sherman\tU.S.\tnsubj->was<-attr<-prep<-pobj<-compound\tJohn Sherman ( May 10 , 1823October 22 , 1900 ) was a politician from the U.S. state of Ohio during the American Civil War and into the late nineteenth century .\n",
            "Franz Liszt\tRaiding\tnsubjpass->born<-prep<-pobj<-prep<-pobj\tFranz Liszt was born on October 22 , 1811 , in the village of Raiding ( ) in the Kingdom of Hungary , then part of the Habsburg Empire ( and since 1920 also part of Austria ) , in Sopron County ( ) .\n",
            "John Lawrence McKenzie\tBrazil\tnsubjpass->born<-prep<-pobj<-prep<-pobj\tJohn Lawrence McKenzie ( October 9 , 1910 – March 2 , 1991 ) was born on October 9 , 1910 , in Brazil , Indiana , the first of the six children of Myra ( Daly ) and Harry McKenzie .\n",
            "Julius Kambarage Nyerere\tTanzania\tnsubj->governed<-conj<-prep<-pobj<-relcl<-dobj<-appos\tHe governed Tanganyika as its Prime Minister from 1961 to 1963 and then as its President from 1963 to 1964 , after which he led its successor state , Tanzania , as its President from 1964 until 1985 .\n",
            "Elizabeth Canning\tthe City of London\tnsubj->disappeared<-prep<-pcomp<-prep<-pobj<-prep<-pobj\tShe disappeared on 1 January 1753 , before returning almost a month later to her mother 's home in Aldermanbury in the City of London , emaciated and in a `` deplorable condition '' .\n",
            "Charles Albert\tSardinia\tnsubj->was<-attr<-prep<-pobj\tCharles Albert ( ; 2 October 1798 – 28 July 1849 ) was the King of Sardinia from 27 April 1831 to 23 March 1849 .\n",
            "Michael Collins\tWoodfield\tnsubjpass->born<-prep<-pobj\tCollins was born in Woodfield , County Cork , the youngest of eight children , and his family had republican connections reaching back to the 1798 rebellion .\n",
            "Copernicus\tthe Kingdom of Poland\tnsubjpass->born<-conj<-prep<-pobj<-appos<-relcl<-attr<-prep<-pobj\tCopernicus was born and died in Royal Prussia , a region that had been part of the Kingdom of Poland since 1466 .\n"
          ]
        }
      ]
    },
    {
      "cell_type": "markdown",
      "metadata": {
        "id": "MKWg-ta19Kzn"
      },
      "source": [
        "Q2: Count the syntactic paths identified in the training data.  What are the two that are most frequently attested?"
      ]
    },
    {
      "cell_type": "code",
      "metadata": {
        "colab": {
          "base_uri": "https://localhost:8080/"
        },
        "id": "R9qKC53i9Kzo",
        "outputId": "1be8f0e6-b34f-4f87-bc1c-9c79b24009a5"
      },
      "source": [
        "counts=Counter()\n",
        "for _, _, path, _ in trainingData:\n",
        "    counts[path]+=1\n",
        "for k, v in counts.most_common(2):\n",
        "    print(\"%s\\t%s\" % (k,v))"
      ],
      "execution_count": 8,
      "outputs": [
        {
          "output_type": "stream",
          "name": "stdout",
          "text": [
            "nsubjpass->born<-prep<-pobj\t29\n",
            "nsubjpass->born<-prep<-pobj<-prep<-pobj\t5\n"
          ]
        }
      ]
    },
    {
      "cell_type": "markdown",
      "metadata": {
        "id": "c5Fv0Zz69Kzo"
      },
      "source": [
        "Q3: Write a function to read in a target file (containing one document per line) and a syntactic path and identify all people/places that are joined by that path. Hint: you can use the get_path function defined above to retrieve the syntactic path between two tokens."
      ]
    },
    {
      "cell_type": "code",
      "metadata": {
        "id": "Te43RGS-9Kzo"
      },
      "source": [
        "def extract_relations(filename, target_path):\n",
        "    \n",
        "    \"\"\" Extract new relations from a file.\n",
        "    Input: \n",
        "        - filename containing one document per line\n",
        "        - target_path: the syntactic dependency path connecting the person entity to the place entity\n",
        "    Output:\n",
        "        - a list of (pers, place, path, sentence) tuples in the same format returned from `read_training`.\n",
        "    \n",
        "    \"\"\"\n",
        "    data=[]\n",
        "    with open(filename) as file:\n",
        "        for line in file:\n",
        "            text=line.rstrip()\n",
        "\n",
        "            doc=nlp(text)\n",
        "\n",
        "            for sent in doc.sents:\n",
        "                people=[]\n",
        "                places=[]\n",
        "\n",
        "                for entity in sent.ents:\n",
        "                    if entity.label_ == \"PERSON\":\n",
        "                        people.append(entity)\n",
        "                    elif entity.label_ == \"GPE\":\n",
        "                        places.append(entity)\n",
        "\n",
        "                for person in people:\n",
        "                    for place in places:\n",
        "\n",
        "                        path=get_path(person.root, place.root)\n",
        "\n",
        "                        if path is not None and path == target_path:\n",
        "                            data.append((person, place, path, place.sent ))\n",
        "                           # print(\"%s\\t%s\\t%s\\t%s\" % (person, place, path, sent))\n",
        "    return data"
      ],
      "execution_count": 9,
      "outputs": []
    },
    {
      "cell_type": "code",
      "metadata": {
        "colab": {
          "base_uri": "https://localhost:8080/"
        },
        "id": "cwiReLDj9Kzp",
        "outputId": "c6073378-e7c9-4127-8bfe-59d1e0fa657e"
      },
      "source": [
        "new_examples=extract_relations(\"../data/wiki.bio.born.test.txt\", \"nsubjpass->born<-prep<-pobj\")\n",
        "for data in new_examples:\n",
        "    print ('\\t'.join([str(x) for x in data]))\n",
        "    print()"
      ],
      "execution_count": 10,
      "outputs": [
        {
          "output_type": "stream",
          "name": "stdout",
          "text": [
            "Joel\tBronx\tnsubjpass->born<-prep<-pobj\tJoel was born in 1949 in The Bronx , New York , and grew up on Long Island , New York , both places that influenced his music .\n",
            "\n",
            "John Whitfield Bunn\tHunterdon County\tnsubjpass->born<-prep<-pobj\tJohn Whitfield Bunn was born June 21 , 1831 , in Hunterdon County , New Jersey .\n",
            "\n",
            "Hanna\tNew Lisbon\tnsubjpass->born<-prep<-pobj\tHanna was born in New Lisbon ( today Lisbon ) , Ohio , in 1837 .\n",
            "\n",
            "Foraker\tOhio\tnsubjpass->born<-prep<-pobj\tForaker was born in rural Ohio in 1846 , and enlisted at age 16 in the Union Army during the American Civil War .\n",
            "\n",
            "Bonnet\tBassillac\tnsubjpass->born<-prep<-pobj\tBonnet was born in Bassillac , Dordogne , the son of a lawyer .\n",
            "\n",
            "Agnew\tBaltimore\tnsubjpass->born<-prep<-pobj\tAgnew was born in Baltimore , to an American-born mother and a Greek immigrant father .\n",
            "\n",
            "Bush\tNew Haven\tnsubjpass->born<-prep<-pobj\tBush was born in New Haven , Connecticut , and grew up in Texas .\n",
            "\n",
            "Biden\tScranton\tnsubjpass->born<-prep<-pobj\tBiden was born in Scranton , Pennsylvania , in 1942 , and lived there for ten years before moving with his family to Delaware .\n",
            "\n",
            "Adams\tBoston\tnsubjpass->born<-prep<-pobj\tAdams was born in Boston , brought up in a religious and politically active family .\n",
            "\n",
            "Kerry\tAurora\tnsubjpass->born<-prep<-pobj\tKerry was born in Aurora , Colorado and attended boarding school in Massachusetts and New Hampshire .\n",
            "\n",
            "Stengel\tKansas City\tnsubjpass->born<-prep<-pobj\tStengel was born in Kansas City , Missouri .\n",
            "\n"
          ]
        }
      ]
    },
    {
      "cell_type": "markdown",
      "metadata": {
        "id": "7zFW6Roh9Kzp"
      },
      "source": [
        "Q4: Execute `extract_relations` on `../data/wiki.bio.born.test.txt` and the two most frequent paths identified in the training data above."
      ]
    },
    {
      "cell_type": "code",
      "metadata": {
        "id": "EH5UNkdA9Kzp",
        "colab": {
          "base_uri": "https://localhost:8080/"
        },
        "outputId": "51102c34-3d16-4642-abfa-b8ca8f626ea3"
      },
      "source": [
        "new_examples=extract_relations(\"../data/wiki.bio.born.test.txt\", \"nsubjpass->born<-prep<-pobj<-prep<-pobj\")\n",
        "for data in new_examples:\n",
        "    print ('\\t'.join([str(x) for x in data]))\n",
        "    print()"
      ],
      "execution_count": 11,
      "outputs": [
        {
          "output_type": "stream",
          "name": "stdout",
          "text": [
            "Joel Stephen Kovel\tBrooklyn\tnsubjpass->born<-prep<-pobj<-prep<-pobj\tJoel Stephen Kovel was born on August 27 , 1936 , in Brooklyn , New York .\n",
            "\n"
          ]
        }
      ]
    },
    {
      "cell_type": "code",
      "metadata": {
        "id": "_v0d71LqBA7l",
        "colab": {
          "base_uri": "https://localhost:8080/"
        },
        "outputId": "629e87d2-5000-4387-891f-3ddea7596774"
      },
      "source": [
        "new_examples=extract_relations(\"../data/wiki.bio.born.test.txt\", \"nsubjpass->born<-prep<-pobj\")\n",
        "for data in new_examples:\n",
        "    print ('\\t'.join([str(x) for x in data]))\n",
        "    print()"
      ],
      "execution_count": 12,
      "outputs": [
        {
          "output_type": "stream",
          "name": "stdout",
          "text": [
            "Joel\tBronx\tnsubjpass->born<-prep<-pobj\tJoel was born in 1949 in The Bronx , New York , and grew up on Long Island , New York , both places that influenced his music .\n",
            "\n",
            "John Whitfield Bunn\tHunterdon County\tnsubjpass->born<-prep<-pobj\tJohn Whitfield Bunn was born June 21 , 1831 , in Hunterdon County , New Jersey .\n",
            "\n",
            "Hanna\tNew Lisbon\tnsubjpass->born<-prep<-pobj\tHanna was born in New Lisbon ( today Lisbon ) , Ohio , in 1837 .\n",
            "\n",
            "Foraker\tOhio\tnsubjpass->born<-prep<-pobj\tForaker was born in rural Ohio in 1846 , and enlisted at age 16 in the Union Army during the American Civil War .\n",
            "\n",
            "Bonnet\tBassillac\tnsubjpass->born<-prep<-pobj\tBonnet was born in Bassillac , Dordogne , the son of a lawyer .\n",
            "\n",
            "Agnew\tBaltimore\tnsubjpass->born<-prep<-pobj\tAgnew was born in Baltimore , to an American-born mother and a Greek immigrant father .\n",
            "\n",
            "Bush\tNew Haven\tnsubjpass->born<-prep<-pobj\tBush was born in New Haven , Connecticut , and grew up in Texas .\n",
            "\n",
            "Biden\tScranton\tnsubjpass->born<-prep<-pobj\tBiden was born in Scranton , Pennsylvania , in 1942 , and lived there for ten years before moving with his family to Delaware .\n",
            "\n",
            "Adams\tBoston\tnsubjpass->born<-prep<-pobj\tAdams was born in Boston , brought up in a religious and politically active family .\n",
            "\n",
            "Kerry\tAurora\tnsubjpass->born<-prep<-pobj\tKerry was born in Aurora , Colorado and attended boarding school in Massachusetts and New Hampshire .\n",
            "\n",
            "Stengel\tKansas City\tnsubjpass->born<-prep<-pobj\tStengel was born in Kansas City , Missouri .\n",
            "\n"
          ]
        }
      ]
    }
  ]
}