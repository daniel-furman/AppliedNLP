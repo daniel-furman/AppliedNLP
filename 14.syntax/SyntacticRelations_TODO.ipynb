{
 "cells": [
  {
   "cell_type": "markdown",
   "metadata": {},
   "source": [
    "This notebook explores dependency parsing by identifying the actions and objects that are characteristically associated with male and female characters."
   ]
  },
  {
   "cell_type": "code",
   "execution_count": 1,
   "metadata": {},
   "outputs": [],
   "source": [
    "import spacy, math\n",
    "from collections import Counter\n",
    "import operator"
   ]
  },
  {
   "cell_type": "code",
   "execution_count": 2,
   "metadata": {},
   "outputs": [],
   "source": [
    "nlp = spacy.load('en_core_web_sm')"
   ]
  },
  {
   "cell_type": "markdown",
   "metadata": {},
   "source": [
    "We'll run seven novels by Jane Austen through spacy (this will take a few minutes)."
   ]
  },
  {
   "cell_type": "code",
   "execution_count": 3,
   "metadata": {},
   "outputs": [
    {
     "name": "stdout",
     "output_type": "stream",
     "text": [
      "../data/fiction/emma.txt\n",
      "../data/fiction/lady_susan.txt\n",
      "../data/fiction/mansfield_park.txt\n",
      "../data/fiction/northanger_abbey.txt\n",
      "../data/fiction/persuasion.txt\n",
      "../data/fiction/pride.txt\n",
      "../data/fiction/sense_and_sensibility.txt\n"
     ]
    }
   ],
   "source": [
    "filenames=[\"../data/fiction/emma.txt\", \"../data/fiction/lady_susan.txt\", \"../data/fiction/mansfield_park.txt\", \"../data/fiction/northanger_abbey.txt\", \"../data/fiction/persuasion.txt\", \"../data/fiction/pride.txt\", \"../data/fiction/sense_and_sensibility.txt\"]\n",
    "all_tokens=[]\n",
    "for filename in filenames:\n",
    "    print(filename)\n",
    "    data=open(filename, encoding=\"utf-8\").read()\n",
    "    tokens=nlp(data)\n",
    "    all_tokens.extend(tokens)"
   ]
  },
  {
   "cell_type": "code",
   "execution_count": 4,
   "metadata": {},
   "outputs": [
    {
     "name": "stdout",
     "output_type": "stream",
     "text": [
      "972808\n"
     ]
    }
   ],
   "source": [
    "print (len(all_tokens))"
   ]
  },
  {
   "cell_type": "code",
   "execution_count": 5,
   "metadata": {},
   "outputs": [],
   "source": [
    "def test(maleCounter, femaleCounter, display=25):\n",
    "    \n",
    "    \"\"\" Function that takes two Counter objects as inputs and prints out a ranked list of terms\n",
    "    more characteristic of the first counter than the second.  Here we'll use log-odds\n",
    "    with an uninformative prior (from Monroe et al 2008, \"Fightin Words\", eqn. 22) as our metric.\n",
    "    \n",
    "    \"\"\"\n",
    "    \n",
    "    vocab=dict(maleCounter) \n",
    "    vocab.update(dict(femaleCounter))\n",
    "    maleSum=sum(maleCounter.values())\n",
    "    femaleSum=sum(femaleCounter.values())\n",
    "\n",
    "    ranks={}\n",
    "    alpha=0.01\n",
    "    alphaV=len(vocab)*alpha\n",
    "        \n",
    "    for word in vocab:\n",
    "        \n",
    "        log_odds_ratio=math.log( (maleCounter[word] + alpha) / (maleSum+alphaV-maleCounter[word]-alpha) ) - math.log( (femaleCounter[word] + alpha) / (femaleSum+alphaV-femaleCounter[word]-alpha) )\n",
    "        variance=1./(maleCounter[word] + alpha) + 1./(femaleCounter[word] + alpha)\n",
    "        \n",
    "        ranks[word]=log_odds_ratio/math.sqrt(variance)\n",
    "\n",
    "    sorted_x = sorted(ranks.items(), key=operator.itemgetter(1), reverse=True)\n",
    "    \n",
    "    print(\"Most male:\")\n",
    "    for k,v in sorted_x[:display]:\n",
    "        print(\"%.3f\\t%s\" % (v,k))\n",
    "    \n",
    "    print(\"\\nMost female:\")\n",
    "    for k,v in reversed(sorted_x[-display:]):\n",
    "        print(\"%.3f\\t%s\" % (v,k))"
   ]
  },
  {
   "cell_type": "markdown",
   "metadata": {},
   "source": [
    "Spacy uses the [ClearNLP dependency labels](https://github.com/clir/clearnlp-guidelines/blob/master/md/specifications/dependency_labels.md), which are very close to the Stanford typed dependencies.  See the [Stanford dependencies manual](http://people.ischool.berkeley.edu/~dbamman/DependencyManual.pdf) for more information about each tag.  Parse information is contained in the spacy token object; see the following for which attributes encode the token text, idx (position in sentence), part of speech, and dependency relation.  The syntactic head for a token is another token given in `token.head` (where all of those same token attributes are accessible)."
   ]
  },
  {
   "cell_type": "code",
   "execution_count": 6,
   "metadata": {},
   "outputs": [
    {
     "name": "stdout",
     "output_type": "stream",
     "text": [
      "He\t0\tPRP\tnsubj\tstarted\t3\tVBD\n",
      "started\t3\tVBD\tROOT\tstarted\t3\tVBD\n",
      "his\t11\tPRP$\tposs\tcar\t15\tNN\n",
      "car\t15\tNN\tdobj\tstarted\t3\tVBD\n",
      ".\t18\t.\tpunct\tstarted\t3\tVBD\n"
     ]
    }
   ],
   "source": [
    "testDoc=nlp(\"He started his car.\")\n",
    "for token in testDoc:\n",
    "    print(\"%s\\t%s\\t%s\\t%s\\t%s\\t%s\\t%s\" % (token.text, token.idx, token.tag_, token.dep_, token.head.text, token.head.idx, token.head.tag_))\n"
   ]
  },
  {
   "cell_type": "markdown",
   "metadata": {},
   "source": [
    "Q1: Find the verbs that men are more characteristically the *subject* of than women.  Feel free to only consider subjects that are \"he\" and \"she\" pronouns.  This function should return two Counter objects (`maleCounter` and `femaleCounter`) which counts the number of times a given verb has \"he\" (`maleCounter`) and \"she\" (`femaleCounter`) as its syntactic subject."
   ]
  },
  {
   "cell_type": "code",
   "execution_count": 7,
   "metadata": {},
   "outputs": [],
   "source": [
    "def count_subjects():\n",
    "    maleCounter=Counter()\n",
    "    femaleCounter=Counter()\n",
    "\n",
    "    for token in all_tokens:\n",
    "        if token.text.lower() == 'he' and token.head.tag_ == 'VBD' and token.dep_ == 'nsubj':\n",
    "            maleCounter[token.head.text] +=1\n",
    "        if token.text.lower() == 'she' and token.head.tag_ == 'VBD' and token.dep_ == 'nsubj':\n",
    "            femaleCounter[token.head.text] +=1\n",
    "            \n",
    "    return maleCounter, femaleCounter"
   ]
  },
  {
   "cell_type": "code",
   "execution_count": 8,
   "metadata": {},
   "outputs": [
    {
     "name": "stdout",
     "output_type": "stream",
     "text": [
      "Most male:\n",
      "6.087\tsaid\n",
      "5.822\treplied\n",
      "5.380\tcame\n",
      "4.577\tseemed\n",
      "3.484\ttold\n",
      "2.747\ttook\n",
      "2.707\tcontinued\n",
      "2.353\ttalked\n",
      "2.340\tleft\n",
      "2.292\tasked\n",
      "\n",
      "Most female:\n",
      "-6.983\tfelt\n",
      "-4.672\tsaw\n",
      "-3.975\tfound\n",
      "-3.706\tknew\n",
      "-3.694\theard\n",
      "-3.212\tcried\n",
      "-3.152\tthought\n",
      "-2.504\tread\n",
      "-2.359\tfeared\n",
      "-2.358\tdared\n"
     ]
    }
   ],
   "source": [
    "male, female=count_subjects()\n",
    "test(male, female, display=10)"
   ]
  },
  {
   "cell_type": "markdown",
   "metadata": {},
   "source": [
    "Q2: Find the verbs that men are more characteristically the *object* of than women.  Feel free to only consider objects that are \"him\" and \"her\" pronouns.  This function should return two Counter objects (`maleCounter` and `femaleCounter`) which counts the number of times a given verb has \"he\" (`maleCounter`) and \"she\" (`femaleCounter`) as its syntactic direct object. "
   ]
  },
  {
   "cell_type": "code",
   "execution_count": 9,
   "metadata": {},
   "outputs": [],
   "source": [
    "def count_objects():\n",
    "    maleCounter=Counter()\n",
    "    femaleCounter=Counter()\n",
    "\n",
    "    for token in all_tokens:\n",
    "        if token.text.lower() == 'him' and token.head.tag_ == 'VBD' and token.dep_ == 'dobj':\n",
    "            maleCounter[token.head.text] +=1\n",
    "        if token.text.lower() == 'her' and token.head.tag_ == 'VBD' and token.dep_ == 'dobj':\n",
    "            femaleCounter[token.head.text] +=1\n",
    "    \n",
    "    return maleCounter, femaleCounter"
   ]
  },
  {
   "cell_type": "code",
   "execution_count": 10,
   "metadata": {
    "scrolled": true
   },
   "outputs": [
    {
     "name": "stdout",
     "output_type": "stream",
     "text": [
      "Most male:\n",
      "3.039\tsaw\n",
      "2.416\tthanked\n",
      "2.359\tliked\n",
      "1.812\tbegged\n",
      "1.776\tdid\n",
      "1.776\trecommended\n",
      "1.600\tbrought\n",
      "1.518\tunderstood\n",
      "1.490\twished\n",
      "1.468\tobserved\n",
      "\n",
      "Most female:\n",
      "-2.657\tleft\n",
      "-1.996\tattended\n",
      "-1.954\tstruck\n",
      "-1.892\tconvinced\n",
      "-1.587\tgave\n",
      "-1.587\tobliged\n",
      "-1.533\tjoined\n",
      "-1.115\tenabled\n",
      "-1.115\tpleased\n",
      "-0.932\tadvised\n"
     ]
    }
   ],
   "source": [
    "male, female=count_objects()\n",
    "test(male, female, display=10)"
   ]
  },
  {
   "cell_type": "markdown",
   "metadata": {},
   "source": [
    "Q3: Find the objects that are *possessed* more frequently by men than women.  Feel free to only consider possessors that are \"his\" and \"her\" pronouns.   This function should return two Counter objects (`maleCounter` and `femaleCounter`) which counts the number of times a given term is possessed by \"he\" (`maleCounter`) and \"she\" (`femaleCounter`)."
   ]
  },
  {
   "cell_type": "code",
   "execution_count": 11,
   "metadata": {},
   "outputs": [],
   "source": [
    "def count_possessions():\n",
    "    maleCounter=Counter()\n",
    "    femaleCounter=Counter()\n",
    "\n",
    "    for token in all_tokens:\n",
    "        if token.text.lower() == 'his' and token.head.tag_ == 'NN' and token.dep_ == 'poss':\n",
    "            maleCounter[token.head.text] +=1\n",
    "        if token.text.lower() == 'her' and token.head.tag_ == 'NN' and token.dep_ == 'poss':\n",
    "            femaleCounter[token.head.text] +=1\n",
    "    \n",
    "    return maleCounter, femaleCounter"
   ]
  },
  {
   "cell_type": "code",
   "execution_count": 12,
   "metadata": {},
   "outputs": [
    {
     "name": "stdout",
     "output_type": "stream",
     "text": [
      "Most male:\n",
      "4.284\treturn\n",
      "4.230\thouse\n",
      "3.978\tname\n",
      "3.570\thorse\n",
      "3.525\tson\n",
      "3.515\tattachment\n",
      "3.416\tcharacter\n",
      "3.410\tbehaviour\n",
      "3.265\tbusiness\n",
      "3.248\tpride\n",
      "\n",
      "Most female:\n",
      "-7.071\tmother\n",
      "-6.112\tsister\n",
      "-4.946\taunt\n",
      "-4.079\tuncle\n",
      "-3.630\theart\n",
      "-3.528\troom\n",
      "-3.068\thand\n",
      "-2.990\tbrother\n",
      "-2.927\tmind\n",
      "-2.686\tfancy\n"
     ]
    }
   ],
   "source": [
    "male, female=count_possessions()\n",
    "test(male, female, display=10)"
   ]
  },
  {
   "cell_type": "markdown",
   "metadata": {},
   "source": [
    "Q4: Find the actions that are men do *to women* more frequently than women do *to men*.  Feel free to only consider subjects and objects that are \"she\"/\"he\"/\"her\"/\"him\" pronouns.   This function should return two Counter objects (`maleCounter` and `femaleCounter`) which counts the number of times a given verb has \"he\" as the subject and \"her\" as the object (`maleCounter`) and \"she\" as the subject and \"him\" as the object (`femaleCounter`)."
   ]
  },
  {
   "cell_type": "code",
   "execution_count": 13,
   "metadata": {},
   "outputs": [],
   "source": [
    "def count_SVO_tuples():\n",
    "    maleCounter=Counter()\n",
    "    femaleCounter=Counter()\n",
    "\n",
    "    for i, token in enumerate(all_tokens):\n",
    "        if token.text.lower() == 'he' and token.head.tag_ == 'VBD' and token.dep_ == 'nsubj':\n",
    "            for token_2 in all_tokens[i-20:i+20]:\n",
    "                if token_2.text.lower() == 'her' and token_2.head.idx == token.head.idx and token_2.dep_ == 'dobj':\n",
    "                    maleCounter[token.head.text] +=1\n",
    "\n",
    "        if token.text.lower() == 'she' and token.head.tag_ == 'VBD' and token.dep_ == 'nsubj':\n",
    "            for token_2 in all_tokens[i-20:i+20]:\n",
    "                if token_2.text.lower() == 'him' and token_2.head.idx == token.head.idx and token_2.dep_ == 'dobj':\n",
    "                    femaleCounter[token.head.text] +=1\n",
    "                \n",
    "    return maleCounter, femaleCounter"
   ]
  },
  {
   "cell_type": "code",
   "execution_count": 14,
   "metadata": {},
   "outputs": [
    {
     "name": "stdout",
     "output_type": "stream",
     "text": [
      "Most male:\n",
      "1.464\tloved\n",
      "1.229\tjoined\n",
      "1.229\tasked\n",
      "1.131\ttold\n",
      "0.931\tleft\n",
      "0.569\thanded\n",
      "0.569\theard\n",
      "0.538\tcalled\n",
      "0.538\tdistinguished\n",
      "0.527\tgave\n",
      "\n",
      "Most female:\n",
      "-1.518\tsaw\n",
      "-1.006\tfound\n",
      "-0.789\tthanked\n",
      "-0.667\tliked\n",
      "-0.608\tanswered\n",
      "-0.608\twatched\n",
      "-0.607\trefused\n",
      "-0.535\tperceived\n",
      "-0.535\tunderstood\n",
      "-0.535\treceived\n"
     ]
    }
   ],
   "source": [
    "male, female=count_SVO_tuples()\n",
    "test(male, female, display=10)"
   ]
  },
  {
   "cell_type": "code",
   "execution_count": null,
   "metadata": {},
   "outputs": [],
   "source": []
  }
 ],
 "metadata": {
  "interpreter": {
   "hash": "d4222c62deee789526b2e6b735eb2f20b12feb76cd92f9c10ded5d55a4a9b08d"
  },
  "kernelspec": {
   "display_name": "Python 3.8.8 64-bit ('anlp': conda)",
   "name": "python3"
  },
  "language_info": {
   "codemirror_mode": {
    "name": "ipython",
    "version": 3
   },
   "file_extension": ".py",
   "mimetype": "text/x-python",
   "name": "python",
   "nbconvert_exporter": "python",
   "pygments_lexer": "ipython3",
   "version": "3.8.8"
  }
 },
 "nbformat": 4,
 "nbformat_minor": 2
}
