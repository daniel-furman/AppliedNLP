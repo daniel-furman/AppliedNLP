{
 "cells": [
  {
   "cell_type": "markdown",
   "id": "6a41b9af",
   "metadata": {},
   "source": [
    "Children often ask their caregivers to find episodes of their favorite TV shows based only on a very short (and loosely relevant!) description of it (\"the one where Arthur has a wiggly tooth\") but video services like Netflix and Amazon don't currently provide such content-based search. Given summaries of each episode, can we use sequence embeddings to solve this retrieval problem?\n",
    "\n",
    "Before beginning this homework, install the following libraries:\n",
    "\n",
    "```sh\n",
    "conda install -c huggingface transformers\n",
    "pip install -U sentence-transformers\n",
    "conda install -c conda-forge ipywidgets\n",
    "```"
   ]
  },
  {
   "cell_type": "markdown",
   "id": "6feb5a6e",
   "metadata": {},
   "source": [
    "First, let's read in our data for the TV show \"Wild Kratts\" (from [Wikipedia](https://en.wikipedia.org/wiki/List_of_Wild_Kratts_episodes)), which has the following (tab-separated) form:\n",
    "\n",
    "|Episode|Title|Summary|\n",
    "|:-|:-|:-|\n",
    "|1|Mom of a Croc|At the Nile River, zoologists Chris and Martin Kratt (voiced by their real-world selves) are on a mission to show one of their fellow Wild Kratts team members—brilliant young inventor Aviva Corcovado (Athena Karkanis)—that there's more to crocodiles than just violence and snapping jaws. After shrinking themselves down to a few inches tall by using Aviva's Miniaturizer invention, the Kratt Brothers disguise themselves as crocodile eggs and sneak into a mother crocodile's new nest. In the Wild Kratts team's turtle-shaped aircraft and headquarters—the Tortuga, one of Aviva's greatest inventions—the Wild Kratts tech team, consisting of Aviva, communications expert and mechanic Koki (Heather Bambrick), and skilled pilot Jimmy Z (Jonathan Malen) monitor Chris and Martin and watch as the mother crocodile faithfully guards her nest against predators for months without even eating anything. Eventually, as the crocodile eggs hatch and the crocodile mom uses her mouth to carry several of her newly hatched babies to the river, Aviva changes her mind about crocodiles and decides that these reptiles are in fact caring and dedicated mothers. But when the mother crocodile leaves the river to go get more hatchlings from her nest, predators threaten the first batch of baby crocodiles. The Kratt Brothers must use the incredible Creature Power Suits—two of Aviva's inventions—to gain the abilities of crocodiles and protect the vulnerable crocodile hatchlings.|\n",
    "|2|Whale of a Squid|The Kratt Brothers use Aviva's amphipod-inspired submersible, the Amphisub, to dive into the deep waters of the Southern Ocean. There, they witness a never-before-seen wildlife moment: a battle between a sperm whale and a giant squid. However, the water pressure at the extreme depths where the battle is taking place badly damages and partially crushes the Amphisub, forcing Aviva to use her new ExtendoArm invention to pull the submersible back to the Tortuga. To allow Chris and Martin to return to the site of the whale-versus-squid battle, Aviva programs two new Creature Power Suits—Sperm Whale Power for Chris, and Squid Power for Martin. The Kratt Brothers use their new Creature Powers to dive back into the deep sea, where the sperm whale and the giant squid are still locked in combat. Suddenly, the sperm whale becomes entangled in a discarded fishing net and begins sinking toward an area full of underwater volcanoes. To make matters worse, a colossal squid attacks the sperm whale's calf. Chris and Martin must put their Creature Powers of both sperm whale and squid to good use to rescue the mother sperm whale and her calf.|\n"
   ]
  },
  {
   "cell_type": "code",
   "execution_count": 1,
   "id": "2a4afb8d",
   "metadata": {},
   "outputs": [],
   "source": [
    "def read_data(filename):\n",
    "    data=[]\n",
    "    with open(filename, encoding=\"utf-8\") as file:\n",
    "        for line in file:\n",
    "            cols=line.rstrip().split(\"\\t\")\n",
    "            episode=cols[0]\n",
    "            title=cols[1]\n",
    "            summary=cols[2]\n",
    "            data.append((episode, title, summary))\n",
    "    return data"
   ]
  },
  {
   "cell_type": "code",
   "execution_count": 2,
   "id": "9a84627e",
   "metadata": {},
   "outputs": [],
   "source": [
    "data=read_data(\"../data/wild_kratts_episodes.txt\")"
   ]
  },
  {
   "cell_type": "code",
   "execution_count": 3,
   "id": "6c13e886",
   "metadata": {},
   "outputs": [],
   "source": [
    "def get_document_reps_for_data(data, sequence_embedding_function, model):\n",
    "    \n",
    "    # This function applies the sequence_embedding_function argument (a function itself) to the summary\n",
    "    # element in the input data list, and returns a copy of that list with an embedding of that summary attached.\n",
    "    \n",
    "    data_with_reps=[]\n",
    "    \n",
    "    for episode, title, summary in data:\n",
    "        data_with_reps.append((episode, title, summary, sequence_embedding_function(model, summary)))\n",
    "    \n",
    "    return data_with_reps"
   ]
  },
  {
   "cell_type": "code",
   "execution_count": 4,
   "id": "6ccd4ec3",
   "metadata": {},
   "outputs": [],
   "source": [
    "def cosine_similarity(a, b):\n",
    "    return np.dot(a, b)/(np.linalg.norm(a)*np.linalg.norm(b))"
   ]
  },
  {
   "cell_type": "markdown",
   "id": "187f6781",
   "metadata": {},
   "source": [
    "First, we may be tempted to use the [CLS] token for BERT to represent an entire input string (as is often done in *supervised* document classification models).  How well does this work as an out-of-the-box document representation not optimized for our particular task?"
   ]
  },
  {
   "cell_type": "code",
   "execution_count": 5,
   "id": "1cecba2b",
   "metadata": {},
   "outputs": [],
   "source": [
    "from transformers import BertModel, BertTokenizer\n",
    "import numpy as np\n",
    "from sentence_transformers import SentenceTransformer"
   ]
  },
  {
   "cell_type": "code",
   "execution_count": 6,
   "id": "39709416",
   "metadata": {},
   "outputs": [
    {
     "name": "stderr",
     "output_type": "stream",
     "text": [
      "Some weights of the model checkpoint at bert-base-uncased were not used when initializing BertModel: ['cls.predictions.transform.dense.weight', 'cls.predictions.transform.LayerNorm.bias', 'cls.predictions.bias', 'cls.predictions.decoder.weight', 'cls.seq_relationship.weight', 'cls.predictions.transform.LayerNorm.weight', 'cls.predictions.transform.dense.bias', 'cls.seq_relationship.bias']\n",
      "- This IS expected if you are initializing BertModel from the checkpoint of a model trained on another task or with another architecture (e.g. initializing a BertForSequenceClassification model from a BertForPreTraining model).\n",
      "- This IS NOT expected if you are initializing BertModel from the checkpoint of a model that you expect to be exactly identical (initializing a BertForSequenceClassification model from a BertForSequenceClassification model).\n"
     ]
    }
   ],
   "source": [
    "tokenizer = BertTokenizer.from_pretrained('bert-base-uncased')\n",
    "model = BertModel.from_pretrained('bert-base-uncased')"
   ]
  },
  {
   "cell_type": "markdown",
   "id": "3a9782f0",
   "metadata": {},
   "source": [
    "**Q1**: Fill out the `get_cls_token_for_doc` function to return the [CLS] embedding for the input string.  The output should be a single 768-dimensional numpy vector (see `4.embeddings/BERT.ipynb` for converting between a pytorch tensor and a numpy object)."
   ]
  },
  {
   "cell_type": "code",
   "execution_count": 7,
   "id": "666851c7",
   "metadata": {},
   "outputs": [],
   "source": [
    "def get_cls_token_for_doc(model, string):\n",
    "    inputs = tokenizer(string, return_tensors=\"pt\")\n",
    "    outputs = model(**inputs)\n",
    "    return outputs.last_hidden_state[0][0].detach().numpy()"
   ]
  },
  {
   "cell_type": "code",
   "execution_count": 8,
   "id": "3a69de05",
   "metadata": {},
   "outputs": [],
   "source": [
    "bert_cls_data=get_document_reps_for_data(data, get_cls_token_for_doc, model)"
   ]
  },
  {
   "cell_type": "markdown",
   "id": "11e7afe7",
   "metadata": {},
   "source": [
    "**Q2**: Use these representations to find the episode that is most similar to the description \"The one where they bounce back in time\" by having the highest cosine similarity between representations.  A sample function shell `run_query` is provided below, along with the only arguments you need, but feel free to adapt it as you see fit."
   ]
  },
  {
   "cell_type": "code",
   "execution_count": 9,
   "id": "864ba3ef",
   "metadata": {},
   "outputs": [],
   "source": [
    "def run_query(query, data_with_reps, sequence_embedding_function, model):\n",
    "    query_rep=sequence_embedding_function(model, query)\n",
    "    sims=[]\n",
    "    for ep, title, summary, document_embedding in data_with_reps:\n",
    "        cos=cosine_similarity(query_rep, document_embedding)\n",
    "        sims.append((cos, ep, title, summary))\n",
    "\n",
    "    import pandas as pd\n",
    "    pd.set_option('display.max_colwidth', 1000)\n",
    "    from IPython.display import display\n",
    "    df = pd.DataFrame(list(reversed(sorted(sims)))[:10])\n",
    "    df.columns=[\"Cosine\", \"Episode\", \"Title\", \"Summary\"]\n",
    "    display(df)\n",
    "    "
   ]
  },
  {
   "cell_type": "code",
   "execution_count": 10,
   "id": "fceee614",
   "metadata": {
    "scrolled": true
   },
   "outputs": [
    {
     "data": {
      "text/html": [
       "<div>\n",
       "<style scoped>\n",
       "    .dataframe tbody tr th:only-of-type {\n",
       "        vertical-align: middle;\n",
       "    }\n",
       "\n",
       "    .dataframe tbody tr th {\n",
       "        vertical-align: top;\n",
       "    }\n",
       "\n",
       "    .dataframe thead th {\n",
       "        text-align: right;\n",
       "    }\n",
       "</style>\n",
       "<table border=\"1\" class=\"dataframe\">\n",
       "  <thead>\n",
       "    <tr style=\"text-align: right;\">\n",
       "      <th></th>\n",
       "      <th>Cosine</th>\n",
       "      <th>Episode</th>\n",
       "      <th>Title</th>\n",
       "      <th>Summary</th>\n",
       "    </tr>\n",
       "  </thead>\n",
       "  <tbody>\n",
       "    <tr>\n",
       "      <th>0</th>\n",
       "      <td>0.755259</td>\n",
       "      <td>34</td>\n",
       "      <td>Little Howler</td>\n",
       "      <td>Chris and Martin find a wolf pup in Martin's bag after a chaotic morning involving a wolf pack and Chris's Creature Power Suit set in moose mode.</td>\n",
       "    </tr>\n",
       "    <tr>\n",
       "      <th>1</th>\n",
       "      <td>0.753341</td>\n",
       "      <td>137</td>\n",
       "      <td>Deer Buckaroo</td>\n",
       "      <td>The Wild Kratts search for a white-tailed deer named Buckaroo as they learn about deer society and their antlers.</td>\n",
       "    </tr>\n",
       "    <tr>\n",
       "      <th>2</th>\n",
       "      <td>0.727147</td>\n",
       "      <td>77</td>\n",
       "      <td>Crocogator Contest</td>\n",
       "      <td>The Wild Kratts go on a Crocogator Challenge to figure out what the differences between crocodiles and alligators are, and why the creature needs those differences.</td>\n",
       "    </tr>\n",
       "    <tr>\n",
       "      <th>3</th>\n",
       "      <td>0.722230</td>\n",
       "      <td>132</td>\n",
       "      <td>Hercules – The Giant Beetle</td>\n",
       "      <td>While investigating exoskeletons, the Hercules beetle accidentally gets enlarged.</td>\n",
       "    </tr>\n",
       "    <tr>\n",
       "      <th>4</th>\n",
       "      <td>0.719663</td>\n",
       "      <td>133</td>\n",
       "      <td>Hero's Journey</td>\n",
       "      <td>When Aviva's new Time Thruster invention gets attached to a migrating salmon, the Wild Kratts must follow the salmon run through the Alaskan wilderness to recover the Time Thruster.</td>\n",
       "    </tr>\n",
       "    <tr>\n",
       "      <th>5</th>\n",
       "      <td>0.719070</td>\n",
       "      <td>142</td>\n",
       "      <td>The Vanishing Stingray</td>\n",
       "      <td>A bored Martin and Chris decide to play a game of creature hide-and-seek, and search the sand flats for one of the greatest hiding animals in the ocean—the stingray.</td>\n",
       "    </tr>\n",
       "    <tr>\n",
       "      <th>6</th>\n",
       "      <td>0.717661</td>\n",
       "      <td>143</td>\n",
       "      <td>In Search of the Easter Bunny</td>\n",
       "      <td>The Kratt Brothers split up; Chris heads north while Martin heads south in search of the species of rabbit or hare who they think is the real Easter bunny.</td>\n",
       "    </tr>\n",
       "    <tr>\n",
       "      <th>7</th>\n",
       "      <td>0.711772</td>\n",
       "      <td>141</td>\n",
       "      <td>Mystery of the Mini Monkey Models</td>\n",
       "      <td>The Wild Kratts team splits up to find mini monkeys known as tamarins and marmosets to discover why they have such weird hairstyles and bright colors.</td>\n",
       "    </tr>\n",
       "    <tr>\n",
       "      <th>8</th>\n",
       "      <td>0.709808</td>\n",
       "      <td>150</td>\n",
       "      <td>Adapto the Coyote</td>\n",
       "      <td>When a coyote pup sneaks into the Tortuga, the Wild Kratts want to learn why this creature is so adaptable.</td>\n",
       "    </tr>\n",
       "    <tr>\n",
       "      <th>9</th>\n",
       "      <td>0.702731</td>\n",
       "      <td>134</td>\n",
       "      <td>Creepy Creatures!</td>\n",
       "      <td>The villains are stealing animals for a haunted house and the Wild Kratts and Wild Kratts kids must stop them and save their animal friends.</td>\n",
       "    </tr>\n",
       "  </tbody>\n",
       "</table>\n",
       "</div>"
      ],
      "text/plain": [
       "     Cosine Episode                              Title  \\\n",
       "0  0.755259      34                      Little Howler   \n",
       "1  0.753341     137                      Deer Buckaroo   \n",
       "2  0.727147      77                 Crocogator Contest   \n",
       "3  0.722230     132        Hercules – The Giant Beetle   \n",
       "4  0.719663     133                     Hero's Journey   \n",
       "5  0.719070     142             The Vanishing Stingray   \n",
       "6  0.717661     143      In Search of the Easter Bunny   \n",
       "7  0.711772     141  Mystery of the Mini Monkey Models   \n",
       "8  0.709808     150                  Adapto the Coyote   \n",
       "9  0.702731     134                  Creepy Creatures!   \n",
       "\n",
       "                                                                                                                                                                                 Summary  \n",
       "0                                      Chris and Martin find a wolf pup in Martin's bag after a chaotic morning involving a wolf pack and Chris's Creature Power Suit set in moose mode.  \n",
       "1                                                                      The Wild Kratts search for a white-tailed deer named Buckaroo as they learn about deer society and their antlers.  \n",
       "2                   The Wild Kratts go on a Crocogator Challenge to figure out what the differences between crocodiles and alligators are, and why the creature needs those differences.  \n",
       "3                                                                                                      While investigating exoskeletons, the Hercules beetle accidentally gets enlarged.  \n",
       "4  When Aviva's new Time Thruster invention gets attached to a migrating salmon, the Wild Kratts must follow the salmon run through the Alaskan wilderness to recover the Time Thruster.  \n",
       "5                  A bored Martin and Chris decide to play a game of creature hide-and-seek, and search the sand flats for one of the greatest hiding animals in the ocean—the stingray.  \n",
       "6                            The Kratt Brothers split up; Chris heads north while Martin heads south in search of the species of rabbit or hare who they think is the real Easter bunny.  \n",
       "7                                 The Wild Kratts team splits up to find mini monkeys known as tamarins and marmosets to discover why they have such weird hairstyles and bright colors.  \n",
       "8                                                                            When a coyote pup sneaks into the Tortuga, the Wild Kratts want to learn why this creature is so adaptable.  \n",
       "9                                           The villains are stealing animals for a haunted house and the Wild Kratts and Wild Kratts kids must stop them and save their animal friends.  "
      ]
     },
     "metadata": {},
     "output_type": "display_data"
    }
   ],
   "source": [
    "query=\"The one where they bounce back in time\"\n",
    "run_query(query, bert_cls_data, get_cls_token_for_doc, model)"
   ]
  },
  {
   "cell_type": "markdown",
   "id": "e907772a",
   "metadata": {},
   "source": [
    "Now let's try a sentence embedding model that was optimized for generating sentence representations: Sentence-BERT ([Reimers and Gurevych 2019](https://arxiv.org/pdf/1908.10084.pdf)).  Example usage (in the context of the Huggingface transformers library) can be found [here](https://www.sbert.net)."
   ]
  },
  {
   "cell_type": "code",
   "execution_count": 11,
   "id": "db44111c",
   "metadata": {},
   "outputs": [],
   "source": [
    "sentence_model = SentenceTransformer('sentence-transformers/all-distilroberta-v1')"
   ]
  },
  {
   "cell_type": "markdown",
   "id": "7f63c4cd",
   "metadata": {},
   "source": [
    "**Q3**: Fill out the `get_sentence_embedding` function below to return the sentence embedding for the input string, and use it again to find the episode that is most similar to the description \"The one where they bounce back in time\" by having the highest cosine similarity between representations.  Which method for generating sentence embeddings appears better for this task?"
   ]
  },
  {
   "cell_type": "code",
   "execution_count": 12,
   "id": "ae518e38",
   "metadata": {},
   "outputs": [],
   "source": [
    "def get_sentence_embedding(model, string):\n",
    "    embedding = model.encode(string)\n",
    "    return embedding"
   ]
  },
  {
   "cell_type": "code",
   "execution_count": 13,
   "id": "dc18d561",
   "metadata": {},
   "outputs": [],
   "source": [
    "sentence_transformer_data=get_document_reps_for_data(data, get_sentence_embedding, sentence_model)"
   ]
  },
  {
   "cell_type": "code",
   "execution_count": 14,
   "id": "6da02ad4",
   "metadata": {
    "scrolled": true
   },
   "outputs": [
    {
     "data": {
      "text/html": [
       "<div>\n",
       "<style scoped>\n",
       "    .dataframe tbody tr th:only-of-type {\n",
       "        vertical-align: middle;\n",
       "    }\n",
       "\n",
       "    .dataframe tbody tr th {\n",
       "        vertical-align: top;\n",
       "    }\n",
       "\n",
       "    .dataframe thead th {\n",
       "        text-align: right;\n",
       "    }\n",
       "</style>\n",
       "<table border=\"1\" class=\"dataframe\">\n",
       "  <thead>\n",
       "    <tr style=\"text-align: right;\">\n",
       "      <th></th>\n",
       "      <th>Cosine</th>\n",
       "      <th>Episode</th>\n",
       "      <th>Title</th>\n",
       "      <th>Summary</th>\n",
       "    </tr>\n",
       "  </thead>\n",
       "  <tbody>\n",
       "    <tr>\n",
       "      <th>0</th>\n",
       "      <td>0.349195</td>\n",
       "      <td>91</td>\n",
       "      <td>Back in Creature Time: Day of the Dodo</td>\n",
       "      <td>After a quick scan on Philippine eagle eggs and learning the animals are going extinct, which means the Kratt Brothers will never adventure with creatures gone forever until Aviva reveals a Trampoline like a time machine which the Kratt Brothers use to jump back in time up to 500 years in the past. First, they decided to see a dodo and Koki, Chris, and Martin jump back on Mauritius Island in the early 1600s when the dodos became extinct. Gourmand's ancestor, Great Great Granddaddy Gourmand (Zachary Bennett) plans to use the dodos for his lunch. The Wild Kratts have to rescue the dodos before they become extinct and travel back to the present day before the remote runs low on power.</td>\n",
       "    </tr>\n",
       "    <tr>\n",
       "      <th>1</th>\n",
       "      <td>0.340593</td>\n",
       "      <td>76</td>\n",
       "      <td>Where the Bison Roam</td>\n",
       "      <td>The team explores the spot where Lewis and Clark first saw the American prairie. While cleaning the teleporter's activation ring, Jimmy Z accidentally rolls it onto the horn of the lead bull in the herd. The Kratts have to find a way to get the ring back without getting charged and discover that bison and prairies are more difficult to find than they were back then.</td>\n",
       "    </tr>\n",
       "    <tr>\n",
       "      <th>2</th>\n",
       "      <td>0.334609</td>\n",
       "      <td>143</td>\n",
       "      <td>In Search of the Easter Bunny</td>\n",
       "      <td>The Kratt Brothers split up; Chris heads north while Martin heads south in search of the species of rabbit or hare who they think is the real Easter bunny.</td>\n",
       "    </tr>\n",
       "    <tr>\n",
       "      <th>3</th>\n",
       "      <td>0.334412</td>\n",
       "      <td>82</td>\n",
       "      <td>Fossa-Palooza</td>\n",
       "      <td>Chris is bummed that the crew has to leave Madagascar for Mother's Day. They have not met the fossa (a very catlike, predatorial mongoose of Madagascar). Suddenly, Martin opens the garage door in midflight and Chris falls in Madagascar to find a fossa mom and baby.</td>\n",
       "    </tr>\n",
       "    <tr>\n",
       "      <th>4</th>\n",
       "      <td>0.329790</td>\n",
       "      <td>47</td>\n",
       "      <td>Bugs Or Monkeys?</td>\n",
       "      <td>A miniaturized Martin wants to check out insects in the rainforest, but Chris wants to investigate the world of the spider monkey. Chris wins when he puts mini Martin in his backpack and heads off through the treetops. When Martin gets kidnapped by a mischievous baby spider monkey, both brothers experience spider monkey anatomy and monkey locomotion. But just as the rescued Martin starts heading back to the Tortuga on Chris in his new spider monkey power suit, a jaguar emerges from the jungle shadows with its eyes on the baby spider monkey. The Kratts must save the baby monkey and reunite it with its family again.</td>\n",
       "    </tr>\n",
       "    <tr>\n",
       "      <th>5</th>\n",
       "      <td>0.325065</td>\n",
       "      <td>17</td>\n",
       "      <td>Elephant in the Room</td>\n",
       "      <td>While driving their jeep (the Createrra) across the African Savanna, Chris and Martin find a baby elephant separated from his mother. Martin names him Thornsley, and brings him back to the Tortuga HQ, only to discover the power of a baby African elephant, and the work necessary to take care of one. While the team is sleeping, Thornsley takes control of the Tortuga, causing Aviva, Koki and Jimmy Z to crash-land in the desert, leaving the Kratt Brothers stranded in the savanna. Jimmy Z gets mad when the elephant eats his sandwich, the gang gets miniaturized by the shrink machine and gets trapped in a shoe. The bros manage to find the Tortuga, finding it a wreck by the young mischievous elephant, and bring the crew back to their original size. Chris and Martin then find his herd and his mom, who's trapped in mud, and must use elephant strength and power to save her. They do so and Thornsley is reunited with his mother.</td>\n",
       "    </tr>\n",
       "    <tr>\n",
       "      <th>6</th>\n",
       "      <td>0.320811</td>\n",
       "      <td>83</td>\n",
       "      <td>Mini Madagascar</td>\n",
       "      <td>Chris and Martin go minisized and explore the small world of Madagascar. They think that Madagascar is safe without any big predators around. They soon see that Madagascar is filled with small monsters.</td>\n",
       "    </tr>\n",
       "    <tr>\n",
       "      <th>7</th>\n",
       "      <td>0.313297</td>\n",
       "      <td>121</td>\n",
       "      <td>Fire Salamander</td>\n",
       "      <td>After seeing a salamander crawling out of a fire in the Black Forest, the Kratt Brothers set off to solve the mystery of the fire salamander's life cycle. They also have to stop Donita and Dabio from capturing 1,000 of them for her bodysuit plan, and even save Chris.</td>\n",
       "    </tr>\n",
       "    <tr>\n",
       "      <th>8</th>\n",
       "      <td>0.305579</td>\n",
       "      <td>123</td>\n",
       "      <td>Wild Ponies</td>\n",
       "      <td>When the Kratt Brothers find a herd of wild horses on a beach, Aviva and Koki are eager to see them. However, the Wild Kratts are forced to retreat into the Tortuga when a storm hits. After the storm, the team finds a wild horse foal who was separated from the herd by a wave. Chris and Martin set off to reunite the foal with his mother.</td>\n",
       "    </tr>\n",
       "    <tr>\n",
       "      <th>9</th>\n",
       "      <td>0.304159</td>\n",
       "      <td>29</td>\n",
       "      <td>Seasquatch</td>\n",
       "      <td>When Martin accidentally knocks Jimmy's controller into the ocean, the Kratt Brothers volunteer to go into the deep to find it, encountering an anglerfish and other deep sea creatures. But then the submarine loses power while they are exploring the strange landscape of the ocean depths and they are trapped on the ocean floor of the deep sea. Aviva must figure out how to harness the energy from the deep sea's hydrothermal vents to save the brothers and return them to the surface. The Wild Kratts team learns all about the amazing process of chemosynthesis and how deep sea creatures transform toxic chemicals into energy. With a little help from the yeti crab, Martin and Chris are able to capture this energy and use it to restart the Amphisub and return to the surface.</td>\n",
       "    </tr>\n",
       "  </tbody>\n",
       "</table>\n",
       "</div>"
      ],
      "text/plain": [
       "     Cosine Episode                                   Title  \\\n",
       "0  0.349195      91  Back in Creature Time: Day of the Dodo   \n",
       "1  0.340593      76                    Where the Bison Roam   \n",
       "2  0.334609     143           In Search of the Easter Bunny   \n",
       "3  0.334412      82                           Fossa-Palooza   \n",
       "4  0.329790      47                        Bugs Or Monkeys?   \n",
       "5  0.325065      17                    Elephant in the Room   \n",
       "6  0.320811      83                         Mini Madagascar   \n",
       "7  0.313297     121                         Fire Salamander   \n",
       "8  0.305579     123                             Wild Ponies   \n",
       "9  0.304159      29                              Seasquatch   \n",
       "\n",
       "                                                                                                                                                                                                                                                                                                                                                                                                                                                                                                                                                                                                                                                                                                                                                                                                                                                                                                                                                             Summary  \n",
       "0                                                                                                                                                                                                                                                 After a quick scan on Philippine eagle eggs and learning the animals are going extinct, which means the Kratt Brothers will never adventure with creatures gone forever until Aviva reveals a Trampoline like a time machine which the Kratt Brothers use to jump back in time up to 500 years in the past. First, they decided to see a dodo and Koki, Chris, and Martin jump back on Mauritius Island in the early 1600s when the dodos became extinct. Gourmand's ancestor, Great Great Granddaddy Gourmand (Zachary Bennett) plans to use the dodos for his lunch. The Wild Kratts have to rescue the dodos before they become extinct and travel back to the present day before the remote runs low on power.  \n",
       "1                                                                                                                                                                                                                                                                                                                                                                                                                                                                                                                                                                                   The team explores the spot where Lewis and Clark first saw the American prairie. While cleaning the teleporter's activation ring, Jimmy Z accidentally rolls it onto the horn of the lead bull in the herd. The Kratts have to find a way to get the ring back without getting charged and discover that bison and prairies are more difficult to find than they were back then.  \n",
       "2                                                                                                                                                                                                                                                                                                                                                                                                                                                                                                                                                                                                                                                                                                                                                                                                        The Kratt Brothers split up; Chris heads north while Martin heads south in search of the species of rabbit or hare who they think is the real Easter bunny.  \n",
       "3                                                                                                                                                                                                                                                                                                                                                                                                                                                                                                                                                                                                                                                                                          Chris is bummed that the crew has to leave Madagascar for Mother's Day. They have not met the fossa (a very catlike, predatorial mongoose of Madagascar). Suddenly, Martin opens the garage door in midflight and Chris falls in Madagascar to find a fossa mom and baby.  \n",
       "4                                                                                                                                                                                                                                                                                                                      A miniaturized Martin wants to check out insects in the rainforest, but Chris wants to investigate the world of the spider monkey. Chris wins when he puts mini Martin in his backpack and heads off through the treetops. When Martin gets kidnapped by a mischievous baby spider monkey, both brothers experience spider monkey anatomy and monkey locomotion. But just as the rescued Martin starts heading back to the Tortuga on Chris in his new spider monkey power suit, a jaguar emerges from the jungle shadows with its eyes on the baby spider monkey. The Kratts must save the baby monkey and reunite it with its family again.  \n",
       "5  While driving their jeep (the Createrra) across the African Savanna, Chris and Martin find a baby elephant separated from his mother. Martin names him Thornsley, and brings him back to the Tortuga HQ, only to discover the power of a baby African elephant, and the work necessary to take care of one. While the team is sleeping, Thornsley takes control of the Tortuga, causing Aviva, Koki and Jimmy Z to crash-land in the desert, leaving the Kratt Brothers stranded in the savanna. Jimmy Z gets mad when the elephant eats his sandwich, the gang gets miniaturized by the shrink machine and gets trapped in a shoe. The bros manage to find the Tortuga, finding it a wreck by the young mischievous elephant, and bring the crew back to their original size. Chris and Martin then find his herd and his mom, who's trapped in mud, and must use elephant strength and power to save her. They do so and Thornsley is reunited with his mother.  \n",
       "6                                                                                                                                                                                                                                                                                                                                                                                                                                                                                                                                                                                                                                                                                                                                                         Chris and Martin go minisized and explore the small world of Madagascar. They think that Madagascar is safe without any big predators around. They soon see that Madagascar is filled with small monsters.  \n",
       "7                                                                                                                                                                                                                                                                                                                                                                                                                                                                                                                                                                                                                                                                                        After seeing a salamander crawling out of a fire in the Black Forest, the Kratt Brothers set off to solve the mystery of the fire salamander's life cycle. They also have to stop Donita and Dabio from capturing 1,000 of them for her bodysuit plan, and even save Chris.  \n",
       "8                                                                                                                                                                                                                                                                                                                                                                                                                                                                                                                                                                                                                 When the Kratt Brothers find a herd of wild horses on a beach, Aviva and Koki are eager to see them. However, the Wild Kratts are forced to retreat into the Tortuga when a storm hits. After the storm, the team finds a wild horse foal who was separated from the herd by a wave. Chris and Martin set off to reunite the foal with his mother.  \n",
       "9                                                                                                                                                            When Martin accidentally knocks Jimmy's controller into the ocean, the Kratt Brothers volunteer to go into the deep to find it, encountering an anglerfish and other deep sea creatures. But then the submarine loses power while they are exploring the strange landscape of the ocean depths and they are trapped on the ocean floor of the deep sea. Aviva must figure out how to harness the energy from the deep sea's hydrothermal vents to save the brothers and return them to the surface. The Wild Kratts team learns all about the amazing process of chemosynthesis and how deep sea creatures transform toxic chemicals into energy. With a little help from the yeti crab, Martin and Chris are able to capture this energy and use it to restart the Amphisub and return to the surface.  "
      ]
     },
     "metadata": {},
     "output_type": "display_data"
    }
   ],
   "source": [
    "query=\"The one where they bounce back in time\"\n",
    "run_query(query, sentence_transformer_data, get_sentence_embedding, sentence_model)"
   ]
  },
  {
   "cell_type": "code",
   "execution_count": null,
   "id": "421063ee",
   "metadata": {},
   "outputs": [],
   "source": []
  }
 ],
 "metadata": {
  "kernelspec": {
   "display_name": "Python [conda env:anlp] *",
   "language": "python",
   "name": "conda-env-anlp-py"
  },
  "language_info": {
   "codemirror_mode": {
    "name": "ipython",
    "version": 3
   },
   "file_extension": ".py",
   "mimetype": "text/x-python",
   "name": "python",
   "nbconvert_exporter": "python",
   "pygments_lexer": "ipython3",
   "version": "3.8.8"
  }
 },
 "nbformat": 4,
 "nbformat_minor": 5
}
