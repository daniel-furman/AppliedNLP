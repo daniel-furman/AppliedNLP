{
 "cells": [
  {
   "cell_type": "markdown",
   "metadata": {},
   "source": [
    "This notebook explores dependency parsing by identifying the actions and objects that are characteristically associated with male and female characters."
   ]
  },
  {
   "cell_type": "code",
   "execution_count": 1,
   "metadata": {},
   "outputs": [],
   "source": [
    "import spacy, math\n",
    "from collections import Counter\n",
    "import operator"
   ]
  },
  {
   "cell_type": "code",
   "execution_count": 2,
   "metadata": {},
   "outputs": [],
   "source": [
    "nlp = spacy.load('en_core_web_sm')"
   ]
  },
  {
   "cell_type": "markdown",
   "metadata": {},
   "source": [
    "We'll run seven novels by Jane Austen through spacy (this will take a few minutes)."
   ]
  },
  {
   "cell_type": "code",
   "execution_count": 3,
   "metadata": {},
   "outputs": [
    {
     "name": "stdout",
     "output_type": "stream",
     "text": [
      "../data/fiction/emma.txt\n",
      "../data/fiction/lady_susan.txt\n",
      "../data/fiction/mansfield_park.txt\n",
      "../data/fiction/northanger_abbey.txt\n",
      "../data/fiction/persuasion.txt\n",
      "../data/fiction/pride.txt\n",
      "../data/fiction/sense_and_sensibility.txt\n"
     ]
    }
   ],
   "source": [
    "filenames=[\"../data/fiction/emma.txt\", \"../data/fiction/lady_susan.txt\", \"../data/fiction/mansfield_park.txt\", \"../data/fiction/northanger_abbey.txt\", \"../data/fiction/persuasion.txt\", \"../data/fiction/pride.txt\", \"../data/fiction/sense_and_sensibility.txt\"]\n",
    "all_tokens=[]\n",
    "for filename in filenames:\n",
    "    print(filename)\n",
    "    data=open(filename, encoding=\"utf-8\").read()\n",
    "    tokens=nlp(data)\n",
    "    all_tokens.extend(tokens)"
   ]
  },
  {
   "cell_type": "code",
   "execution_count": 4,
   "metadata": {},
   "outputs": [
    {
     "name": "stdout",
     "output_type": "stream",
     "text": [
      "972808\n"
     ]
    }
   ],
   "source": [
    "print (len(all_tokens))"
   ]
  },
  {
   "cell_type": "code",
   "execution_count": 5,
   "metadata": {},
   "outputs": [],
   "source": [
    "def test(maleCounter, femaleCounter, display=25):\n",
    "    \n",
    "    \"\"\" Function that takes two Counter objects as inputs and prints out a ranked list of terms\n",
    "    more characteristic of the first counter than the second.  Here we'll use log-odds\n",
    "    with an uninformative prior (from Monroe et al 2008, \"Fightin Words\", eqn. 22) as our metric.\n",
    "    \n",
    "    \"\"\"\n",
    "    \n",
    "    vocab=dict(maleCounter) \n",
    "    vocab.update(dict(femaleCounter))\n",
    "    maleSum=sum(maleCounter.values())\n",
    "    femaleSum=sum(femaleCounter.values())\n",
    "\n",
    "    ranks={}\n",
    "    alpha=0.01\n",
    "    alphaV=len(vocab)*alpha\n",
    "        \n",
    "    for word in vocab:\n",
    "        \n",
    "        log_odds_ratio=math.log( (maleCounter[word] + alpha) / (maleSum+alphaV-maleCounter[word]-alpha) ) - math.log( (femaleCounter[word] + alpha) / (femaleSum+alphaV-femaleCounter[word]-alpha) )\n",
    "        variance=1./(maleCounter[word] + alpha) + 1./(femaleCounter[word] + alpha)\n",
    "        \n",
    "        ranks[word]=log_odds_ratio/math.sqrt(variance)\n",
    "\n",
    "    sorted_x = sorted(ranks.items(), key=operator.itemgetter(1), reverse=True)\n",
    "    \n",
    "    print(\"Most male:\")\n",
    "    for k,v in sorted_x[:display]:\n",
    "        print(\"%.3f\\t%s\" % (v,k))\n",
    "    \n",
    "    print(\"\\nMost female:\")\n",
    "    for k,v in reversed(sorted_x[-display:]):\n",
    "        print(\"%.3f\\t%s\" % (v,k))"
   ]
  },
  {
   "cell_type": "markdown",
   "metadata": {},
   "source": [
    "Spacy uses the [ClearNLP dependency labels](https://github.com/clir/clearnlp-guidelines/blob/master/md/specifications/dependency_labels.md), which are very close to the Stanford typed dependencies.  See the [Stanford dependencies manual](https://nlp.stanford.edu/software/dependencies_manual.pdf) for more information about each tag.  Parse information is contained in the spacy token object; see the following for which attributes encode the token text, idx (position in sentence), part of speech, and dependency relation.  The syntactic head for a token is another token given in `token.head` (where all of those same token attributes are accessible)."
   ]
  },
  {
   "cell_type": "code",
   "execution_count": 6,
   "metadata": {},
   "outputs": [
    {
     "name": "stdout",
     "output_type": "stream",
     "text": [
      "He\t0\tPRP\tnsubj\tstarted\t3\tVBD\n",
      "started\t3\tVBD\tROOT\tstarted\t3\tVBD\n",
      "his\t11\tPRP$\tposs\tcar\t15\tNN\n",
      "car\t15\tNN\tdobj\tstarted\t3\tVBD\n",
      ".\t18\t.\tpunct\tstarted\t3\tVBD\n"
     ]
    }
   ],
   "source": [
    "testDoc=nlp(\"He started his car.\")\n",
    "for token in testDoc:\n",
    "    print(\"%s\\t%s\\t%s\\t%s\\t%s\\t%s\\t%s\" % (token.text, token.idx, token.tag_, token.dep_, token.head.text, token.head.idx, token.head.tag_))\n"
   ]
  },
  {
   "cell_type": "markdown",
   "metadata": {},
   "source": [
    "Q1: Find the verbs that men are more characteristically the *subject* of than women.  Feel free to only consider subjects that are \"he\" and \"she\" pronouns.  This function should return two Counter objects (`maleCounter` and `femaleCounter`) which counts the number of times a given verb has \"he\" (`maleCounter`) and \"she\" (`femaleCounter`) as its syntactic subject."
   ]
  },
  {
   "cell_type": "code",
   "execution_count": 15,
   "metadata": {},
   "outputs": [],
   "source": [
    "def count_subjects():\n",
    "    maleCounter=Counter()\n",
    "    femaleCounter=Counter()\n",
    "\n",
    "    for token in all_tokens:\n",
    "        if token.dep_ == \"nsubj\":\n",
    "            if token.text.lower() == \"he\":\n",
    "                maleCounter[token.head.text]+=1\n",
    "            elif token.text.lower() == \"she\":\n",
    "                femaleCounter[token.head.text]+=1\n",
    "    \n",
    "    return maleCounter, femaleCounter"
   ]
  },
  {
   "cell_type": "code",
   "execution_count": 16,
   "metadata": {},
   "outputs": [
    {
     "name": "stdout",
     "output_type": "stream",
     "text": [
      "Most male:\n",
      "6.887\tis\n",
      "5.237\treplied\n",
      "4.911\tcome\n",
      "4.718\ttold\n",
      "4.692\tcame\n",
      "4.399\tsaid\n",
      "4.048\tseemed\n",
      "3.508\tleft\n",
      "3.495\tdone\n",
      "3.465\tcomes\n",
      "\n",
      "Most female:\n",
      "-7.654\tfelt\n",
      "-5.324\tsaw\n",
      "-4.336\tknew\n",
      "-4.206\theard\n",
      "-4.019\tfound\n",
      "-3.599\tcried\n",
      "-3.281\twas\n",
      "-2.954\tthought\n",
      "-2.935\thelp\n",
      "-2.925\thad\n"
     ]
    }
   ],
   "source": [
    "male, female=count_subjects()\n",
    "test(male, female, display=10)"
   ]
  },
  {
   "cell_type": "markdown",
   "metadata": {},
   "source": [
    "Q2: Find the verbs that men are more characteristically the *object* of than women.  Feel free to only consider objects that are \"him\" and \"here\" pronouns.  This function should return two Counter objects (`maleCounter` and `femaleCounter`) which counts the number of times a given verb has \"he\" (`maleCounter`) and \"she\" (`femaleCounter`) as its syntactic direct object. "
   ]
  },
  {
   "cell_type": "code",
   "execution_count": 17,
   "metadata": {},
   "outputs": [],
   "source": [
    "def count_objects():\n",
    "    maleCounter=Counter()\n",
    "    femaleCounter=Counter()\n",
    "\n",
    "    for token in all_tokens:\n",
    "        if token.dep_ == \"dobj\":\n",
    "            if token.text.lower() == \"him\":\n",
    "                maleCounter[token.head.text]+=1\n",
    "            elif token.text.lower() == \"her\":\n",
    "                femaleCounter[token.head.text]+=1\n",
    "    \n",
    "    return maleCounter, femaleCounter"
   ]
  },
  {
   "cell_type": "code",
   "execution_count": 18,
   "metadata": {
    "scrolled": true
   },
   "outputs": [
    {
     "name": "stdout",
     "output_type": "stream",
     "text": [
      "Most male:\n",
      "3.754\tlike\n",
      "3.598\tseen\n",
      "3.445\tseeing\n",
      "2.944\tknow\n",
      "2.841\tmeet\n",
      "2.344\tliked\n",
      "2.340\tsee\n",
      "2.215\tcall\n",
      "2.082\tdo\n",
      "2.059\tsent\n",
      "\n",
      "Most female:\n",
      "-3.889\tleft\n",
      "-2.671\tstruck\n",
      "-2.493\tconvinced\n",
      "-2.388\tattended\n",
      "-2.023\tgave\n",
      "-1.977\ttold\n",
      "-1.904\tobliged\n",
      "-1.850\tjoined\n",
      "-1.758\tprevented\n",
      "-1.727\tamuse\n"
     ]
    }
   ],
   "source": [
    "male, female=count_objects()\n",
    "test(male, female, display=10)"
   ]
  },
  {
   "cell_type": "markdown",
   "metadata": {},
   "source": [
    "Q3: Find the objects that are *possessed* more frequently by men than women.  Feel free to only consider possessors that are \"his\" and \"her\" pronouns.   This function should return two Counter objects (`maleCounter` and `femaleCounter`) which counts the number of times a given term is possessed by \"he\" (`maleCounter`) and \"she\" (`femaleCounter`)."
   ]
  },
  {
   "cell_type": "code",
   "execution_count": 19,
   "metadata": {},
   "outputs": [],
   "source": [
    "def count_possessions():\n",
    "    maleCounter=Counter()\n",
    "    femaleCounter=Counter()\n",
    "\n",
    "    for token in all_tokens:\n",
    "        if token.dep_ == \"poss\":\n",
    "            if token.text.lower() == \"his\":\n",
    "                maleCounter[token.head.text]+=1\n",
    "            elif token.text.lower() == \"her\":\n",
    "                femaleCounter[token.head.text]+=1\n",
    "    \n",
    "    return maleCounter, femaleCounter"
   ]
  },
  {
   "cell_type": "code",
   "execution_count": 20,
   "metadata": {},
   "outputs": [
    {
     "name": "stdout",
     "output_type": "stream",
     "text": [
      "Most male:\n",
      "4.430\tsisters\n",
      "4.369\tattentions\n",
      "4.177\thouse\n",
      "4.150\tbeing\n",
      "4.118\treturn\n",
      "3.921\tname\n",
      "3.555\thorse\n",
      "3.472\tattachment\n",
      "3.453\tson\n",
      "3.347\tcharacter\n",
      "\n",
      "Most female:\n",
      "-7.129\tmother\n",
      "-6.184\tsister\n",
      "-4.995\taunt\n",
      "-4.568\teyes\n",
      "-4.130\tuncle\n",
      "-3.700\theart\n",
      "-3.677\tspirits\n",
      "-3.564\troom\n",
      "-3.179\tthoughts\n",
      "-3.120\thand\n"
     ]
    }
   ],
   "source": [
    "male, female=count_possessions()\n",
    "test(male, female, display=10)"
   ]
  },
  {
   "cell_type": "markdown",
   "metadata": {},
   "source": [
    "Q4: Find the actions that are men do *to women* more frequently than women do *to men*.  Feel free to only consider subjects and objects that are \"she\"/\"he\"/\"her\"/\"him\" pronouns.   This function should return two Counter objects (`maleCounter` and `femaleCounter`) which counts the number of times a given verb has \"he\" as the subject and \"her\" as the object (`maleCounter`) and \"she\" as the subject and \"him\" as the object (`femaleCounter`)."
   ]
  },
  {
   "cell_type": "code",
   "execution_count": 21,
   "metadata": {},
   "outputs": [],
   "source": [
    "def count_SVO_tuples():\n",
    "    maleCounter=Counter()\n",
    "    femaleCounter=Counter()\n",
    "\n",
    "    dobj_verbs={}\n",
    "    nsubj_verbs={}\n",
    "\n",
    "    for token in all_tokens:\n",
    "        if token.dep_ == \"dobj\":\n",
    "            if token.text.lower() == \"him\" or token.text.lower() == \"her\":\n",
    "                head=token.head\n",
    "                if head not in dobj_verbs:\n",
    "                    dobj_verbs[head]=[]\n",
    "                dobj_verbs[head].append(token)\n",
    "                \n",
    "                \n",
    "        if token.dep_ == \"nsubj\":\n",
    "            if token.text.lower() == \"he\" or token.text.lower() == \"she\":\n",
    "                head=token.head\n",
    "                if head not in nsubj_verbs:\n",
    "                    nsubj_verbs[head]=[]\n",
    "                nsubj_verbs[head].append(token)\n",
    "\n",
    "    for head_verb in dobj_verbs:\n",
    "        if head_verb in nsubj_verbs:\n",
    "            \n",
    "            for subjectToken in nsubj_verbs[head_verb]:\n",
    "                for objectToken in dobj_verbs[head_verb]:\n",
    "                    if subjectToken.text.lower() == \"he\" and objectToken.text.lower() == \"her\":\n",
    "                        maleCounter[head_verb.text]+=1\n",
    "                    elif subjectToken.text.lower() == \"she\" and objectToken.text.lower() == \"him\":\n",
    "                        femaleCounter[head_verb.text]+=1\n",
    "\n",
    "                \n",
    "    return maleCounter, femaleCounter"
   ]
  },
  {
   "cell_type": "code",
   "execution_count": 22,
   "metadata": {},
   "outputs": [
    {
     "name": "stdout",
     "output_type": "stream",
     "text": [
      "Most male:\n",
      "2.919\ttold\n",
      "1.911\tloved\n",
      "1.778\tleft\n",
      "1.344\tjoined\n",
      "1.235\tasked\n",
      "1.047\tadmire\n",
      "0.804\tassured\n",
      "0.652\tcalled\n",
      "0.652\tsought\n",
      "0.652\tdistinguished\n",
      "\n",
      "Most female:\n",
      "-2.434\tseen\n",
      "-1.587\thave\n",
      "-1.219\tsaw\n",
      "-0.870\tfound\n",
      "-0.693\tsee\n",
      "-0.674\tliked\n",
      "-0.613\taccept\n",
      "-0.613\trefused\n",
      "-0.591\taccepted\n",
      "-0.591\tlike\n"
     ]
    }
   ],
   "source": [
    "male, female=count_SVO_tuples()\n",
    "test(male, female, display=10)"
   ]
  },
  {
   "cell_type": "code",
   "execution_count": null,
   "metadata": {},
   "outputs": [],
   "source": []
  }
 ],
 "metadata": {
  "kernelspec": {
   "display_name": "Python 3",
   "language": "python",
   "name": "python3"
  },
  "language_info": {
   "codemirror_mode": {
    "name": "ipython",
    "version": 3
   },
   "file_extension": ".py",
   "mimetype": "text/x-python",
   "name": "python",
   "nbconvert_exporter": "python",
   "pygments_lexer": "ipython3",
   "version": "3.8.11"
  }
 },
 "nbformat": 4,
 "nbformat_minor": 2
}
