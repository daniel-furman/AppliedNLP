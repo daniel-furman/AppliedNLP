{
 "cells": [
  {
   "cell_type": "markdown",
   "metadata": {},
   "source": [
    "This notebook explores dependency parsing by identifying the actions and objects that are characteristically associated with male and female characters."
   ]
  },
  {
   "cell_type": "code",
   "execution_count": 1,
   "metadata": {},
   "outputs": [],
   "source": [
    "import spacy, math\n",
    "from collections import Counter\n",
    "import operator"
   ]
  },
  {
   "cell_type": "code",
   "execution_count": 2,
   "metadata": {},
   "outputs": [],
   "source": [
    "nlp = spacy.load('en_core_web_sm')"
   ]
  },
  {
   "cell_type": "markdown",
   "metadata": {},
   "source": [
    "We'll run seven novels by Jane Austen through spacy (this will take a few minutes)."
   ]
  },
  {
   "cell_type": "code",
   "execution_count": 3,
   "metadata": {},
   "outputs": [
    {
     "name": "stdout",
     "output_type": "stream",
     "text": [
      "../data/fiction/emma.txt\n",
      "../data/fiction/lady_susan.txt\n",
      "../data/fiction/mansfield_park.txt\n",
      "../data/fiction/northanger_abbey.txt\n",
      "../data/fiction/persuasion.txt\n",
      "../data/fiction/pride.txt\n",
      "../data/fiction/sense_and_sensibility.txt\n"
     ]
    }
   ],
   "source": [
    "filenames=[\"../data/fiction/emma.txt\", \"../data/fiction/lady_susan.txt\", \"../data/fiction/mansfield_park.txt\", \"../data/fiction/northanger_abbey.txt\", \"../data/fiction/persuasion.txt\", \"../data/fiction/pride.txt\", \"../data/fiction/sense_and_sensibility.txt\"]\n",
    "all_tokens=[]\n",
    "for filename in filenames:\n",
    "    print(filename)\n",
    "    data=open(filename, encoding=\"utf-8\").read()\n",
    "    tokens=nlp(data)\n",
    "    all_tokens.extend(tokens)"
   ]
  },
  {
   "cell_type": "code",
   "execution_count": 4,
   "metadata": {},
   "outputs": [
    {
     "name": "stdout",
     "output_type": "stream",
     "text": [
      "972808\n"
     ]
    }
   ],
   "source": [
    "print (len(all_tokens))"
   ]
  },
  {
   "cell_type": "code",
   "execution_count": 5,
   "metadata": {},
   "outputs": [],
   "source": [
    "def test(maleCounter, femaleCounter, display=25):\n",
    "    \n",
    "    \"\"\" Function that takes two Counter objects as inputs and prints out a ranked list of terms\n",
    "    more characteristic of the first counter than the second.  Here we'll use log-odds\n",
    "    with an uninformative prior (from Monroe et al 2008, \"Fightin Words\", eqn. 22) as our metric.\n",
    "    \n",
    "    \"\"\"\n",
    "    \n",
    "    vocab=dict(maleCounter) \n",
    "    vocab.update(dict(femaleCounter))\n",
    "    maleSum=sum(maleCounter.values())\n",
    "    femaleSum=sum(femaleCounter.values())\n",
    "\n",
    "    ranks={}\n",
    "    alpha=0.01\n",
    "    alphaV=len(vocab)*alpha\n",
    "        \n",
    "    for word in vocab:\n",
    "        \n",
    "        log_odds_ratio=math.log( (maleCounter[word] + alpha) / (maleSum+alphaV-maleCounter[word]-alpha) ) - math.log( (femaleCounter[word] + alpha) / (femaleSum+alphaV-femaleCounter[word]-alpha) )\n",
    "        variance=1./(maleCounter[word] + alpha) + 1./(femaleCounter[word] + alpha)\n",
    "        \n",
    "        ranks[word]=log_odds_ratio/math.sqrt(variance)\n",
    "\n",
    "    sorted_x = sorted(ranks.items(), key=operator.itemgetter(1), reverse=True)\n",
    "    \n",
    "    print(\"Most male:\")\n",
    "    for k,v in sorted_x[:display]:\n",
    "        print(\"%.3f\\t%s\" % (v,k))\n",
    "    \n",
    "    print(\"\\nMost female:\")\n",
    "    for k,v in reversed(sorted_x[-display:]):\n",
    "        print(\"%.3f\\t%s\" % (v,k))"
   ]
  },
  {
   "cell_type": "markdown",
   "metadata": {},
   "source": [
    "Spacy uses the [ClearNLP dependency labels](https://github.com/clir/clearnlp-guidelines/blob/master/md/specifications/dependency_labels.md), which are very close to the Stanford typed dependencies.  See the [Stanford dependencies manual](https://nlp.stanford.edu/software/dependencies_manual.pdf) for more information about each tag.  Parse information is contained in the spacy token object; see the following for which attributes encode the token text, idx (position in sentence), part of speech, and dependency relation.  The syntactic head for a token is another token given in `token.head` (where all of those same token attributes are accessible)."
   ]
  },
  {
   "cell_type": "code",
   "execution_count": 6,
   "metadata": {},
   "outputs": [
    {
     "name": "stdout",
     "output_type": "stream",
     "text": [
      "He\t0\tPRP\tnsubj\tstarted\t3\tVBD\n",
      "started\t3\tVBD\tROOT\tstarted\t3\tVBD\n",
      "his\t11\tPRP$\tposs\tcar\t15\tNN\n",
      "car\t15\tNN\tdobj\tstarted\t3\tVBD\n",
      ".\t18\t.\tpunct\tstarted\t3\tVBD\n"
     ]
    }
   ],
   "source": [
    "testDoc=nlp(\"He started his car.\")\n",
    "for token in testDoc:\n",
    "    print(\"%s\\t%s\\t%s\\t%s\\t%s\\t%s\\t%s\" % (token.text, token.idx, token.tag_, token.dep_, token.head.text, token.head.idx, token.head.tag_))\n"
   ]
  },
  {
   "cell_type": "markdown",
   "metadata": {},
   "source": [
    "Q1: Find the verbs that men are more characteristically the *subject* of than women.  Feel free to only consider subjects that are \"he\" and \"she\" pronouns.  This function should return two Counter objects (`maleCounter` and `femaleCounter`) which counts the number of times a given verb has \"he\" (`maleCounter`) and \"she\" (`femaleCounter`) as its syntactic subject."
   ]
  },
  {
   "cell_type": "code",
   "execution_count": 7,
   "metadata": {},
   "outputs": [],
   "source": [
    "def count_subjects():\n",
    "    maleCounter=Counter()\n",
    "    femaleCounter=Counter()\n",
    "\n",
    "    for token in all_tokens:\n",
    "        if token.dep_ == \"nsubj\":\n",
    "            if token.text.lower() == \"he\":\n",
    "                maleCounter[token.head.lemma_]+=1\n",
    "            elif token.text.lower() == \"she\":\n",
    "                femaleCounter[token.head.lemma_]+=1\n",
    "    \n",
    "    return maleCounter, femaleCounter"
   ]
  },
  {
   "cell_type": "code",
   "execution_count": 8,
   "metadata": {},
   "outputs": [
    {
     "name": "stdout",
     "output_type": "stream",
     "text": [
      "Most male:\n",
      "8.209\tcome\n",
      "4.961\treply\n",
      "4.701\tsay\n",
      "4.212\tseem\n",
      "3.852\ttell\n",
      "3.768\tleave\n",
      "3.601\ttalk\n",
      "3.148\tmarry\n",
      "3.087\ttake\n",
      "2.955\task\n",
      "\n",
      "Most female:\n",
      "-7.886\tfeel\n",
      "-5.497\tsee\n",
      "-4.575\thear\n",
      "-3.791\tcry\n",
      "-3.014\thelp\n",
      "-2.849\texpect\n",
      "-2.796\tresolve\n",
      "-2.784\tfind\n",
      "-2.744\tremember\n",
      "-2.697\tbelieve\n"
     ]
    }
   ],
   "source": [
    "male, female=count_subjects()\n",
    "test(male, female, display=10)"
   ]
  },
  {
   "cell_type": "markdown",
   "metadata": {},
   "source": [
    "Q2: Find the verbs that men are more characteristically the *object* of than women.  Feel free to only consider objects that are \"him\" and \"here\" pronouns.  This function should return two Counter objects (`maleCounter` and `femaleCounter`) which counts the number of times a given verb has \"he\" (`maleCounter`) and \"she\" (`femaleCounter`) as its syntactic direct object. "
   ]
  },
  {
   "cell_type": "code",
   "execution_count": 9,
   "metadata": {},
   "outputs": [],
   "source": [
    "def count_objects():\n",
    "    maleCounter=Counter()\n",
    "    femaleCounter=Counter()\n",
    "\n",
    "    for token in all_tokens:\n",
    "        if token.dep_ == \"dobj\":\n",
    "            if token.text.lower() == \"him\":\n",
    "                maleCounter[token.head.lemma_]+=1\n",
    "            elif token.text.lower() == \"her\":\n",
    "                femaleCounter[token.head.lemma_]+=1\n",
    "    \n",
    "    return maleCounter, femaleCounter"
   ]
  },
  {
   "cell_type": "code",
   "execution_count": 10,
   "metadata": {
    "scrolled": true
   },
   "outputs": [
    {
     "name": "stdout",
     "output_type": "stream",
     "text": [
      "Most male:\n",
      "5.664\tsee\n",
      "4.630\tlike\n",
      "3.157\tknow\n",
      "2.662\tsend\n",
      "2.585\tintroduce\n",
      "2.585\twish\n",
      "2.357\trecommend\n",
      "2.329\tsuspect\n",
      "2.124\tbelieve\n",
      "1.823\tdislike\n",
      "\n",
      "Most female:\n",
      "-3.729\tleave\n",
      "-2.780\tattend\n",
      "-2.392\tprevent\n",
      "-2.378\tplease\n",
      "-2.299\tstrike\n",
      "-2.058\toblige\n",
      "-2.022\ttreat\n",
      "-1.960\tsupport\n",
      "-1.960\tamuse\n",
      "-1.895\tescape\n"
     ]
    }
   ],
   "source": [
    "male, female=count_objects()\n",
    "test(male, female, display=10)"
   ]
  },
  {
   "cell_type": "markdown",
   "metadata": {},
   "source": [
    "Q3: Find the objects that are *possessed* more frequently by men than women.  Feel free to only consider possessors that are \"his\" and \"her\" pronouns.   This function should return two Counter objects (`maleCounter` and `femaleCounter`) which counts the number of times a given term is possessed by \"he\" (`maleCounter`) and \"she\" (`femaleCounter`)."
   ]
  },
  {
   "cell_type": "code",
   "execution_count": 11,
   "metadata": {},
   "outputs": [],
   "source": [
    "def count_possessions():\n",
    "    maleCounter=Counter()\n",
    "    femaleCounter=Counter()\n",
    "\n",
    "    for token in all_tokens:\n",
    "        if token.dep_ == \"poss\":\n",
    "            if token.text.lower() == \"his\":\n",
    "                maleCounter[token.head.lemma_]+=1\n",
    "            elif token.text.lower() == \"her\":\n",
    "                femaleCounter[token.head.lemma_]+=1\n",
    "    \n",
    "    return maleCounter, femaleCounter"
   ]
  },
  {
   "cell_type": "code",
   "execution_count": 12,
   "metadata": {},
   "outputs": [
    {
     "name": "stdout",
     "output_type": "stream",
     "text": [
      "Most male:\n",
      "4.615\treturn\n",
      "4.608\tmanner\n",
      "4.178\thouse\n",
      "3.922\tname\n",
      "3.807\thorse\n",
      "3.709\taddress\n",
      "3.367\tson\n",
      "3.348\tcharacter\n",
      "3.344\tbehaviour\n",
      "3.333\tattachment\n",
      "\n",
      "Most female:\n",
      "-7.128\tmother\n",
      "-5.353\taunt\n",
      "-4.129\tuncle\n",
      "-3.903\tspirit\n",
      "-3.796\tsister\n",
      "-3.758\teye\n",
      "-3.699\theart\n",
      "-3.564\troom\n",
      "-3.043\tthought\n",
      "-3.041\tfeeling\n"
     ]
    }
   ],
   "source": [
    "male, female=count_possessions()\n",
    "test(male, female, display=10)"
   ]
  },
  {
   "cell_type": "markdown",
   "metadata": {},
   "source": [
    "Q4: Find the actions that are men do *to women* more frequently than women do *to men*.  Feel free to only consider subjects and objects that are \"she\"/\"he\"/\"her\"/\"him\" pronouns.   This function should return two Counter objects (`maleCounter` and `femaleCounter`) which counts the number of times a given verb has \"he\" as the subject and \"her\" as the object (`maleCounter`) and \"she\" as the subject and \"him\" as the object (`femaleCounter`)."
   ]
  },
  {
   "cell_type": "code",
   "execution_count": 13,
   "metadata": {},
   "outputs": [],
   "source": [
    "def count_SVO_tuples():\n",
    "    maleCounter=Counter()\n",
    "    femaleCounter=Counter()\n",
    "\n",
    "    dobj_verbs={}\n",
    "    nsubj_verbs={}\n",
    "\n",
    "    for token in all_tokens:\n",
    "        if token.dep_ == \"dobj\":\n",
    "            if token.text.lower() == \"him\" or token.text.lower() == \"her\":\n",
    "                head=token.head\n",
    "                if head not in dobj_verbs:\n",
    "                    dobj_verbs[head]=[]\n",
    "                dobj_verbs[head].append(token)\n",
    "                \n",
    "                \n",
    "        if token.dep_ == \"nsubj\":\n",
    "            if token.text.lower() == \"he\" or token.text.lower() == \"she\":\n",
    "                head=token.head\n",
    "                if head not in nsubj_verbs:\n",
    "                    nsubj_verbs[head]=[]\n",
    "                nsubj_verbs[head].append(token)\n",
    "\n",
    "    for head_verb in dobj_verbs:\n",
    "        if head_verb in nsubj_verbs:\n",
    "            \n",
    "            for subjectToken in nsubj_verbs[head_verb]:\n",
    "                for objectToken in dobj_verbs[head_verb]:\n",
    "                    if subjectToken.text.lower() == \"he\" and objectToken.text.lower() == \"her\":\n",
    "                        maleCounter[head_verb.lemma_]+=1\n",
    "                    elif subjectToken.text.lower() == \"she\" and objectToken.text.lower() == \"him\":\n",
    "                        femaleCounter[head_verb.lemma_]+=1\n",
    "\n",
    "                \n",
    "    return maleCounter, femaleCounter"
   ]
  },
  {
   "cell_type": "code",
   "execution_count": 14,
   "metadata": {},
   "outputs": [
    {
     "name": "stdout",
     "output_type": "stream",
     "text": [
      "Most male:\n",
      "3.174\ttell\n",
      "1.946\tleave\n",
      "1.566\tassure\n",
      "1.496\tgive\n",
      "1.344\tjoin\n",
      "1.235\task\n",
      "1.108\tlove\n",
      "1.083\tadmire\n",
      "1.047\tforget\n",
      "0.652\tcall\n",
      "\n",
      "Most female:\n",
      "-3.182\tsee\n",
      "-1.753\thave\n",
      "-1.161\tentreat\n",
      "-0.870\tfind\n",
      "-0.870\tunderstand\n",
      "-0.855\tthank\n",
      "-0.713\tlike\n",
      "-0.693\tfollow\n",
      "-0.674\taccept\n",
      "-0.632\trefuse\n"
     ]
    }
   ],
   "source": [
    "male, female=count_SVO_tuples()\n",
    "test(male, female, display=10)"
   ]
  },
  {
   "cell_type": "code",
   "execution_count": null,
   "metadata": {},
   "outputs": [],
   "source": []
  }
 ],
 "metadata": {
  "kernelspec": {
   "display_name": "Python 3 (ipykernel)",
   "language": "python",
   "name": "python3"
  },
  "language_info": {
   "codemirror_mode": {
    "name": "ipython",
    "version": 3
   },
   "file_extension": ".py",
   "mimetype": "text/x-python",
   "name": "python",
   "nbconvert_exporter": "python",
   "pygments_lexer": "ipython3",
   "version": "3.8.3"
  }
 },
 "nbformat": 4,
 "nbformat_minor": 2
}
