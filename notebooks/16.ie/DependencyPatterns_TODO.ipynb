{
 "cells": [
  {
   "cell_type": "markdown",
   "metadata": {
    "colab_type": "text",
    "id": "view-in-github"
   },
   "source": [
    "<a href=\"https://colab.research.google.com/github/dbamman/anlp21/blob/main/16.ie/DependencyPatterns_TODO.ipynb\" target=\"_parent\"><img src=\"https://colab.research.google.com/assets/colab-badge.svg\" alt=\"Open In Colab\"/></a>"
   ]
  },
  {
   "cell_type": "markdown",
   "metadata": {
    "id": "VwF0eQEuUZDI"
   },
   "source": [
    "This notebook explores relation extraction by measuring common dependency paths between two entities that hold a given relation to each other -- here, the relation \"born_in\" between a PER entity and an GPE entity, using data from Wikipedia biographies.  Feel free to run this notebook either on your on computer or on Google Colab. If using Google Colab, install these libraries first:"
   ]
  },
  {
   "cell_type": "code",
   "execution_count": 21,
   "metadata": {
    "colab": {
     "base_uri": "https://localhost:8080/"
    },
    "id": "LoU-B7rDUc-L",
    "outputId": "bf82d56b-1482-46e1-e4d0-9b03196b536d"
   },
   "outputs": [],
   "source": [
    "#!pip install spacy==2.1.0"
   ]
  },
  {
   "cell_type": "code",
   "execution_count": 22,
   "metadata": {
    "colab": {
     "base_uri": "https://localhost:8080/"
    },
    "id": "Oab0AdCFUuid",
    "outputId": "7c186843-0027-46cd-94d5-e7fa39e43784"
   },
   "outputs": [],
   "source": [
    "#!python -m spacy download en_core_web_sm"
   ]
  },
  {
   "cell_type": "code",
   "execution_count": 23,
   "metadata": {
    "colab": {
     "base_uri": "https://localhost:8080/"
    },
    "id": "Z78f7KFuUwlG",
    "outputId": "897fe36e-fc7d-4e02-ac23-af04da351d7f"
   },
   "outputs": [],
   "source": [
    "#!pip install neuralcoref --no-binary neuralcoref"
   ]
  },
  {
   "cell_type": "markdown",
   "metadata": {},
   "source": [
    "Otherwise, use your local `anlp21-spacy2` environment we set up in class on Tuesday."
   ]
  },
  {
   "cell_type": "code",
   "execution_count": 4,
   "metadata": {
    "colab": {
     "base_uri": "https://localhost:8080/"
    },
    "id": "KKOFd6tiUZDK",
    "outputId": "cb4d4a9c-a355-4617-b42a-4dcc13b0cb7f"
   },
   "outputs": [],
   "source": [
    "import re\n",
    "import spacy\n",
    "import neuralcoref\n",
    "from collections import Counter"
   ]
  },
  {
   "cell_type": "code",
   "execution_count": 5,
   "metadata": {
    "id": "kgsWNpewUZDM"
   },
   "outputs": [],
   "source": [
    "nlp = spacy.load('en_core_web_sm')\n",
    "coref = neuralcoref.NeuralCoref(nlp.vocab)\n",
    "nlp.add_pipe(coref, name='neuralcoref')"
   ]
  },
  {
   "cell_type": "code",
   "execution_count": 6,
   "metadata": {
    "id": "XiO2oWmMUZDM"
   },
   "outputs": [],
   "source": [
    "def get_path(one, two):\n",
    "    \n",
    "    \"\"\" Get dependency path between two tokens in a sentence; return None if not reachable \"\"\"\n",
    "    \n",
    "    one_heads=[x for x in one.ancestors]\n",
    "    two_heads=[x for x in two.ancestors]\n",
    "    \n",
    "    up_path=[]\n",
    "    down_path=[]\n",
    "    up_path.append(one)\n",
    "    down_path.append(two)\n",
    "    \n",
    "    lca=None\n",
    "    for head in one_heads:\n",
    "        if head in two_heads:\n",
    "            lca=head\n",
    "            break\n",
    "            \n",
    "        up_path.append(head)\n",
    "\n",
    "    for head in two_heads:\n",
    "        if head == lca:\n",
    "            break\n",
    "    \n",
    "        down_path.append(head)\n",
    "   \n",
    "    if lca is None:\n",
    "        return None\n",
    "    \n",
    "    path=\"%s->%s<-%s\" % ('->'.join([\"%s\" % x.dep_ for x in up_path]), lca.text, '<-'.join([\"%s\" % x.dep_ for x in reversed(down_path)]))\n",
    "    return path"
   ]
  },
  {
   "cell_type": "code",
   "execution_count": 7,
   "metadata": {
    "id": "XtyODxkPUZDN"
   },
   "outputs": [],
   "source": [
    "def get_closest_coref(entity1, clusters, target_entity):\n",
    "    \n",
    "    \"\"\" Given entities e1 and mention m2 of another entity, returns the mention for e1 closest to m2 \"\"\"\n",
    "    \n",
    "    targetCluster=None\n",
    "    for chain in clusters:\n",
    "        for mention in chain.mentions:\n",
    "            if mention.start <= entity1.start and mention.end >= entity1.end:\n",
    "                targetCluster=chain\n",
    "                break\n",
    "\n",
    "    if targetCluster is None:\n",
    "        return None\n",
    "\n",
    "    closestMention=None\n",
    "    dist=100\n",
    "    for mention in targetCluster:\n",
    "            sentDist=abs(target_entity.sent.start-mention.sent.start)\n",
    "            if sentDist < dist:\n",
    "                dist=sentDist\n",
    "                closestMention=mention\n",
    "            if sentDist == dist and closestMention is not None:\n",
    "                if abs(target_entity.start-mention.start) < abs(target_entity.start-closestMention.start):\n",
    "                    closetMention=mention\n",
    "    return closestMention\n",
    "                "
   ]
  },
  {
   "cell_type": "markdown",
   "metadata": {
    "id": "QBQrUEpIUZDO"
   },
   "source": [
    "Q0. In class activity: here's [a Google spreadsheet](https://docs.google.com/spreadsheets/d/1PNDInP5JIqad9mOXwRUxGDZntvoUerX22QQcgFCJDxY/edit?usp=sharing) with the first 5 sentences from ~500 Wikipedia biographies.  If you're present in class, pick 10 rows of this spreadsheet that other students haven't already claimed and put your student ID in the \"Student ID\" column; then go through those 10 rows and read the document. If you can infer that a person from the \"Candidate people\" column was born in a place in the \"Candidate places\" column, list that person in the \"PER BORN\" column and the place in the \"PLACE BORN\" column."
   ]
  },
  {
   "cell_type": "code",
   "execution_count": 8,
   "metadata": {
    "id": "UGLebaU1UZDO"
   },
   "outputs": [],
   "source": [
    "def read_training(filename):\n",
    "    \n",
    "    \"\"\" Read in training data for <person, place> tuples that express the \"born_in\" relation.\n",
    "    \n",
    "    -- Use coreference resolution to identity the person mention closest to the place mention.\n",
    "    -- Use dependency parsing to extract the syntactic path from that person mention to the place.\n",
    "    \n",
    "    \"\"\"\n",
    "    \n",
    "    data=[]\n",
    "    with open(filename) as file:\n",
    "        for line in file:\n",
    "            cols=line.split(\"\\t\")\n",
    "            idd=cols[0]\n",
    "            doc=cols[1]\n",
    "            pers=cols[4]\n",
    "            place=cols[5].rstrip()\n",
    "            \n",
    "            if pers != \"\" and place != \"\":\n",
    "                doc=nlp(doc)\n",
    "\n",
    "                target_person=None\n",
    "                target_place=None\n",
    "                \n",
    "                # Annotations are at the type level, so let's anchor them to specific mentions\n",
    "                for entity in doc.ents:\n",
    "                    if entity.text == pers:\n",
    "                        target_person=entity\n",
    "                    elif entity.text == place:\n",
    "                        target_place=entity\n",
    "                \n",
    "                if target_person is not None and target_place is not None:\n",
    "                    \n",
    "                    # Use coreference to get person mention that's closest to the place (ideally in the same sentence).\n",
    "                    closest_person_mention=get_closest_coref(target_person, doc._.coref_clusters, target_place)\n",
    "                    if closest_person_mention is None:\n",
    "                        closest_person_mention=target_person\n",
    "                    \n",
    "                    path=get_path(closest_person_mention.root, target_place.root)\n",
    "                    \n",
    "                    # if a path can be found between the two\n",
    "                    if path is not None:\n",
    "                        data.append((pers, place, path, target_place.sent ))\n",
    "    return data     "
   ]
  },
  {
   "cell_type": "markdown",
   "metadata": {
    "id": "ku2ARfoSUZDP"
   },
   "source": [
    "At the end of class, save this Google sheet as a tsv in `born.tsv` and execute the `read_training` function on it to read in the <person, place> tuples.  If you're executing this on Google Colab, download the born.tsv file here (after class).  In both cases, adjust the path to `born.tsv` for your environment."
   ]
  },
  {
   "cell_type": "code",
   "execution_count": 9,
   "metadata": {
    "colab": {
     "base_uri": "https://localhost:8080/"
    },
    "id": "VAU-tLEnVTmu",
    "outputId": "085194b2-8cac-4de8-a8bf-1f61a0718f11"
   },
   "outputs": [
    {
     "name": "stdout",
     "output_type": "stream",
     "text": [
      "--2021-11-21 14:37:33--  https://raw.githubusercontent.com/dbamman/anlp21/master/data/born.tsv\n",
      "Resolving raw.githubusercontent.com (raw.githubusercontent.com)... 185.199.111.133, 185.199.109.133, 185.199.110.133, ...\n",
      "Connecting to raw.githubusercontent.com (raw.githubusercontent.com)|185.199.111.133|:443... connected.\n",
      "HTTP request sent, awaiting response... 200 OK\n",
      "Length: 443267 (433K) [text/plain]\n",
      "Saving to: ‘born.tsv.2’\n",
      "\n",
      "born.tsv.2          100%[===================>] 432.88K  --.-KB/s    in 0.04s   \n",
      "\n",
      "2021-11-21 14:37:33 (11.0 MB/s) - ‘born.tsv.2’ saved [443267/443267]\n",
      "\n"
     ]
    }
   ],
   "source": [
    "#!brew install wget\n",
    "!wget https://raw.githubusercontent.com/dbamman/anlp21/master/data/born.tsv"
   ]
  },
  {
   "cell_type": "code",
   "execution_count": 10,
   "metadata": {
    "colab": {
     "base_uri": "https://localhost:8080/"
    },
    "id": "alBZWUqaUZDP",
    "outputId": "6163cd2b-44e0-482c-ea81-08c1d17d5ea8"
   },
   "outputs": [
    {
     "name": "stdout",
     "output_type": "stream",
     "text": [
      "Hutchinson\tAlford\tnsubjpass->born<-prep<-pobj\tHutchinson was born in Alford , Lincolnshire , England , the daughter of Francis Marbury , an Anglican cleric and school teacher who gave her a far better education than most other girls received .\n",
      "William Henry Seward\tFlorida\tnsubjpass->born<-prep<-pobj\tSeward was born in Florida , Orange County , New York , where his father was a farmer and owned slaves .\n",
      "Konrad Henlein\tMaffersdorf\tnsubjpass->born<-prep<-pobj\tKonrad Henlein was born in Maffersdorf ( present-day Vratislavice nad Nisou ) near Reichenberg ( Liberec ) , in what was then the Bohemian crown land of Austria-Hungary .\n",
      "Robert Sylvester Kelly\tChicago\tnsubj->began<-advcl<-prep<-pobj\tA native of Chicago , Kelly began performing during the late 1980s and debuted in 1992 with the group Public Announcement .\n",
      "Alastair Nathan Cook\tEngland\tnsubjpass->regarded<-prep<-pobj<-prep<-pobj<-relcl<-prep<-pobj\tHe is regarded as one of the greatest batsmen ever to play for England , and is one of the most prolific batsmen of the modern era .\n",
      "Michael Kaine\tSt. Paul\tnsubj->grew<-advcl<-prep<-pobj\tBorn in St. Paul , Minnesota , Kaine grew up in Overland Park , Kansas , graduated from the University of Missouri , and earned a J.D .\n",
      "Adam Mitchel Lambert\tU.S.\tnsubj->released<-prep<-pobj<-relcl<-prep<-pobj\tLater that year , he released his debut album , `` For Your Entertainment '' , which debuted at number three on the U.S. `` Billboard '' 200 .\n",
      "Sonia Maria Sotomayor\tBronx\tnsubjpass->born<-prep<-pobj\tSotomayor was born in The Bronx , New York City , to Puerto Rican-born parents .\n",
      "Peter Gary Tatchell\tAustralia\tnsubj->is<-attr<-prep<-pobj\tPeter Gary Tatchell ( born 25 January 1952 ) is a British human rights campaigner , originally from Australia , best known for his work with LGBT social movements .\n",
      "Maurice Yaméogo\tthe Republic of Upper Volta\tnsubj->was<-attr<-prep<-pobj\tMaurice Yaméogo ( 31 December 1921 – 15 September 1993 ) was the first President of the Republic of Upper Volta , now called Burkina Faso , from 1959 until 1966 .\n",
      "Augustus Heinrich Petermann\tBleicherode\tnsubjpass->born<-prep<-pobj\tPetermann was born in Bleicherode , Germany .\n",
      "Alfred Joseph Hitchcock\tLondon\tnsubj->entered<-advcl<-prep<-pobj<-prep<-pobj\tBorn on the outskirts of London , Hitchcock entered the film industry in 1919 as a title card designer after training as a technical clerk and copy writer for a telegraph-cable company .\n",
      "Keith Ross Miller\tAustralia\tnsubjpass->regarded<-prep<-pobj<-poss\tMiller is widely regarded as Australia 's greatest ever all-rounder .\n",
      "Condoleezza Rice\tUnited States\tnsubj->served<-prep<-pobj<-nmod\tShe served as the 66th United States Secretary of State , the second person to hold that office in the administration of President George W. Bush .\n",
      "Christopher James Christie\tNewark\tnsubjpass->born<-prep<-pobj\tChristie was born in Newark and raised in Livingston .\n",
      "Benjamin Franklin\tthe United States\tnsubj->was<-attr<-conj<-prep<-pobj<-prep<-pobj\tBenjamin Franklin ( April 17 , 1790 ) was an American polymath and one of the Founding Fathers of the United States .\n",
      "Petermann\tBleicherode\tnsubjpass->born<-prep<-pobj\tPetermann was born in Bleicherode , Germany .\n",
      "Francisco Franco Bahamonde\tSpain\tnsubj->was<-attr<-relcl<-prep<-pobj\tFrancisco Franco Bahamonde ( ; ; 4 December 1892 – 20 November 1975 ) was a Spanish general who ruled over Spain as a military dictator from 1939 , after the nationalist victory in the Spanish Civil War , until his death in 1975 .\n",
      "Jawaharlal Nehru\tIndia\tnsubj->emerged<-conj<-dobj\tHe emerged as an eminent leader of the Indian independence movement under the tutelage of Mahatma Gandhi and served India as Prime Minister from its establishment as an independent nation in 1947 until his death in 1964 .\n",
      "Ayaan Hirsi Ali\tSomali\tnsubj->csubj->is<-attr<-amod<-npadvmod\tAyaan Hirsi Ali ( ; ; born Ayaan Hirsi Magan , 13 November 1969 ) is a Somali-born Dutch-American activist , feminist , author , scholar and former politician .\n",
      "Timothy Francis Leary\tthe United States\tnsubj->advcl->were<-prep<-pobj\tAs a clinical psychologist at Harvard University , Leary conducted experiments under the Harvard Psilocybin Project in 1960-62 ( LSD and psilocybin were still legal in the United States at the time ) , resulting in the Concord Prison Experiment and the Marsh Chapel Experiment .\n",
      "Tycho Brahe\tScania\tnsubjpass->born<-prep<-pobj<-prep<-pobj\tHe was born in the then Danish peninsula of Scania .\n",
      "Anne Hutchinson\tPuritan\tposs->nsubj->were<-prep<-pobj<-prep<-pobj<-compound\tHer strong religious convictions were at odds with the established Puritan clergy in the Boston area , and her popularity and charisma helped create a theological schism that threatened to destroy the Puritans ' religious community in New England .\n",
      "Warren\tLos Angeles\tnsubjpass->born<-prep<-pobj\tWarren was born in 1891 in Los Angeles and was raised in Bakersfield , California .\n",
      "Erich von Manstein\tGermany\tnsubj->rose<-conj<-prep<-pobj<-acl<-ccomp<-nsubj\tHe rose to the rank of captain by the end of the war and was active in the inter-war period helping Germany rebuild her armed forces .\n",
      "Joseph Maurice Ravel\tFrance\tnsubj->attended<-dobj<-poss\tBorn to a music-loving family , Ravel attended France 's premier music college , the Paris Conservatoire ; he was not well regarded by its conservative establishment , whose biased treatment of him caused a scandal .\n",
      "Jimmie Kenneth Johnson\tEl Cajon\tnsubjpass->born<-prep<-pobj\tJohnson was born in El Cajon , California , and began racing motorcycles at the age of four .\n",
      "John Winston Lennon\tLiverpool\tpobj->as<-pobj<-prep<-pobj\tHe was born as John Winston Lennon in Liverpool , where he became involved in the skiffle craze as a teenager .\n",
      "Donald John Trump\tNew York City\tnsubjpass->born<-conj<-prep<-pobj<-compound\tTrump was born and raised in the New York City borough of Queens .\n",
      "Katharine Cornell\tBerlin\tnsubjpass->born<-prep<-pobj\tShe was born in Berlin to American parents and raised in Buffalo , New York .\n",
      "King\tAtlanta\tnsubjpass->known<-advcl<-prep<-pobj\tBorn in Atlanta , King is best known for advancing civil rights through nonviolence and civil disobedience , tactics his Christian beliefs and the nonviolent activism of Mahatma Gandhi helped inspire .\n",
      "Brigid Lansbury\tRegents Park\tnsubjpass->born<-prep<-pobj<-appos<-prep<-pobj\tLansbury was born to Irish actress Moyna Macgill and English politician Edgar Lansbury , an upper-middle-class family in Regents Park , central London ; her paternal grandfather was the British Labour Party leader George Lansbury .\n",
      "Marshall\tFauquier County\tnsubjpass->born<-prep<-pobj\tMarshall was born in Fauquier County , Virginia in 1755 .\n",
      "Nancy Davis Reagan\tNew York City\tnsubjpass->born<-prep<-pobj\tShe was born in New York City .\n",
      "Jomo Kenyatta\tKenya\tnsubj->was<-conj<-prep<-pobj<-prep<-pobj\tHe was the country 's first indigenous head of government and played a significant role in the transformation of Kenya from a colony of the British Empire into an independent republic .\n",
      "Robyn Rihanna Fenty\tSaint Michael\tnsubjpass->discovered<-advcl<-prep<-pobj\tBorn in Saint Michael , Barbados , and raised in Bridgetown , she was discovered by American record producer Evan Rogers in her home country of Barbados in 2003 .\n",
      "Theodore Roosevelt Jr.\tNew York\tnsubj->served<-conj<-pobj<-prep<-pobj\tHe also served as the 25th Vice President of the United States from March to September 1901 and as the 33rd Governor of New York from 1899 to 1900 .\n",
      "Mikhail Sergeyevich Gorbachev\tthe Soviet Union\tnsubj->was<-advcl<-conj<-pobj<-prep<-pobj\tHe was the country 's head of state from 1988 until 1991 ( titled as Chairman of the Presidium of the Supreme Soviet from 1988 to 1989 , as Chairman of the Supreme Soviet from 1989 to 1990 , and as President of the Soviet Union from 1990 to 1991 ) .\n",
      "Katharine Cornell\tBerlin\tnsubjpass->born<-prep<-pobj\tShe was born in Berlin to American parents and raised in Buffalo , New York .\n",
      "Abbott\tLondon\tnsubjpass->born<-prep<-pobj\tAbbott was born in London to an Australian mother and a British father , and moved to Sydney at the age of two .\n",
      "William Wilberforce\tKingston\tnsubj->began<-advcl<-prep<-pobj\tA native of Kingston upon Hull , Yorkshire , he began his political career in 1780 , eventually becoming a Member of Parliament for Yorkshire ( 1784–1812 ) .\n",
      "Karim Mostafa Benzema\tLyon\tnsubjpass->born<-prep<-pobj<-prep<-pobj\tBenzema was born in the city of Lyon and began his football career with local club Bron Terraillon .\n",
      "Michael Collins\tWoodfield\tnsubjpass->born<-prep<-pobj\tCollins was born in Woodfield , County Cork , the youngest of eight children , and his family had republican connections reaching back to the 1798 rebellion .\n",
      "Hassan Sheikh Mohamud\tSomalia\tnsubj->was<-attr<-prep<-pobj\tHe was the 8th President of Somalia from 16 September 2012 until 16 February 2017 .\n",
      "Robert Sylvester Kelly\tChicago\tnsubj->began<-advcl<-prep<-pobj\tA native of Chicago , Kelly began performing during the late 1980s and debuted in 1992 with the group Public Announcement .\n",
      "Aamir Khan\tIndia\tnsubj->has<-dobj<-prep<-pobj\tHe has a significant following in India and China , and has been described by `` Newsweek '' as `` the biggest movie star '' in the world .\n",
      "William Phips\tthe Province of Massachusetts Bay\tnsubj->was<-attr<-acl<-prep<-pobj<-conj<-prep<-pobj\tSir William Phips ( or Phipps ; February 2 , 1651 – February 18 , 1695 ) was a shepherd boy born in the Massachusetts Bay Colony , a shipwright , ship 's captain , treasure hunter , a major general , and the first royally appointed governor of the Province of Massachusetts Bay .\n",
      "Gillard\tBarry\tnsubj->migrated<-advcl<-prep<-pobj\tBorn in Barry , Wales , Gillard migrated with her family to Adelaide , South Australia , in 1966 .\n",
      "Anthony John Abbott\tLondon\tnsubjpass->born<-prep<-pobj\tAbbott was born in London to an Australian mother and a British father , and moved to Sydney at the age of two .\n",
      "Paul Joseph Goebbels\tGermany\tnsubj->was<-attr<-conj<-prep<-pobj<-prep<-pobj\tPaul Joseph Goebbels ( ; 29 October 1897 – 1 May 1945 ) was a German Nazi politician and Reich Minister of Propaganda of Nazi Germany from 1933 to 1945 .\n",
      "William George Heirens\tIllinois\tnsubj->spent<-dobj<-prep<-pobj<-prep<-pobj<-prep<-pobj<-appos\tHe spent the later years of his sentence at the Dixon Correctional Center in Dixon , Illinois .\n",
      "William Morris\tWalthamstow\tnsubj->came<-advcl<-prep<-pobj\tBorn in Walthamstow , Essex , to a wealthy middle-class family , Morris came under the strong influence of medievalism while studying Classics at Oxford University , there joining the Birmingham Set .\n",
      "Rodney Stephen Steiger\tWesthampton\tnsubjpass->born<-prep<-pobj\tSteiger was born in Westhampton , New York , the son of a vaudevillian .\n",
      "Frederick Sewards Trueman\tStainton\tnsubjpass->born<-prep<-pobj\tHe was born in Stainton , West Riding of Yorkshire , and died in Steeton with Eastburn , West Yorkshire .\n",
      "Francisco Franco Bahamonde\tSpain\tnsubj->was<-attr<-relcl<-prep<-pobj\tFrancisco Franco Bahamonde ( ; ; 4 December 1892 – 20 November 1975 ) was a Spanish general who ruled over Spain as a military dictator from 1939 , after the nationalist victory in the Spanish Civil War , until his death in 1975 .\n",
      "Marx\tTrier\tnpadvmod->amod->dep->Born<-prep<-pobj\tBorn in Trier , Germany , to a Jewish middle-class family , Marx studied law and philosophy at university .\n",
      "Earl Warren\tLos Angeles\tnsubjpass->born<-prep<-pobj\tWarren was born in 1891 in Los Angeles and was raised in Bakersfield , California .\n",
      "Luis Alberto Suárez Díaz\tUruguay\tnsubj->won<-conj<-prep<-pobj\tOften regarded as one of the best players in the world , Suárez has won 17 trophies in his career , including five league titles and a UEFA Champions League title at club level , and a Copa América with Uruguay .\n",
      "Julia Eileen Gillard\tWales\tnsubj->migrated<-advcl<-prep<-pobj<-conj\tBorn in Barry , Wales , Gillard migrated with her family to Adelaide , South Australia , in 1966 .\n",
      "Frederick Sewards Trueman\tStainton\tnsubjpass->born<-prep<-pobj\tHe was born in Stainton , West Riding of Yorkshire , and died in Steeton with Eastburn , West Yorkshire .\n",
      "Jeffrey Koons\tPennsylvania\tnsubj->lives<-conj<-prep<-pobj<-conj<-prep<-pobj<-appos\tHe lives and works in both New York City and his hometown of York , Pennsylvania .\n",
      "Seward\tFlorida\tnsubjpass->born<-prep<-pobj\tSeward was born in Florida , Orange County , New York , where his father was a farmer and owned slaves .\n",
      "Joseph Michael Arpaio\tAmerica\tnsubj->styled<-prep<-pobj<-poss\tArpaio styled himself as `` America 's Toughest Sheriff '' .\n",
      "Edward Scott Pruitt\tOklahoma\tnsubj->is<-attr<-prep<-pobj<-prep<-pobj\tEdward Scott Pruitt ( born May 9 , 1968 ) is an American lawyer and Republican politician from the state of Oklahoma .\n",
      "Louis Pierre Althusser\tAlgeria\tnsubjpass->born<-prep<-pobj\tHe was born in Algeria and studied at the École Normale Supérieure in Paris , where he eventually became Professor of Philosophy .\n",
      "Irving Berlin\tImperial Russia\tnsubj->arrived<-advcl<-prep<-pobj\tBorn in Imperial Russia , Berlin arrived in the United States at the age of five .\n",
      "Nash\tAustralia\tnsubj->was<-attr<-conj<-dobj<-relcl<-prep<-pobj\tIn cricket , Nash was a fast bowler and hard hitting lower order batsman who played two Test matches for Australia , taking 10 wickets at 12.80 runs per wicket , and scoring 30 runs at a batting average of 15 .\n",
      "John Richard Kasich Jr.\tPittsburgh\tnsubj->lived<-nsubj<-prep<-pobj\tA native of Pittsburgh , Pennsylvania , Kasich has lived much of his adulthood in Ohio , specifically the state capital of Columbus .\n",
      "Frederick Russell Burnham DSO\tMinnesota\tnsubj->relcl->reservation<-prep<-pobj\tBurnham was born on a Dakota Sioux Indian reservation in Minnesota where he learned the ways of American Indians as a boy .\n",
      "Edward Gough Whitlam\tAustralia\tnsubj->won<-prep<-pcomp<-agent<-pobj<-prep<-pobj\tHe won the 1974 election before being controversially dismissed by the Governor-General of Australia , Sir John Kerr , at the climax of the 1975 Australian constitutional crisis .\n",
      "Ian Douglas Smith\tRhodesia\tdobj->ccomp->remains<-nsubj<-relcl<-prep<-pcomp<-dobj\tSmith , who has been described as personifying white Rhodesia , remains a highly controversial figure—supporters venerate him as a man of integrity and vision `` who understood the uncomfortable truths of Africa '' , while critics describe an unrepentant racist whose policies and actions caused the deaths of thousands and contributed to Zimbabwe 's later crises .\n",
      "Aafia Siddiqui\tPakistan\tnsubjpass->born<-prep<-pobj\tSiddiqui was born in Pakistan to a Deobandi Muslim family .\n",
      "Johann Mickl\tAustro\tnsubjpass->commissioned<-conj<-prep<-pobj<-amod<-compound\tHe was commissioned shortly before the outbreak of World War I , and served with Austro-Hungarian forces on the Eastern and Italian Fronts as company commander in the Imperial-Royal Mountain Troops .\n",
      "Josephine Sarah\tNew York\tnsubjpass->born<-prep<-pobj\tJosephine was born in New York to a Prussian Jewish family ; her father was a baker .\n",
      "Rodney Stephen Steiger\tNew York\tnsubjpass->born<-prep<-pobj<-appos\tSteiger was born in Westhampton , New York , the son of a vaudevillian .\n",
      "Burnham\tMinnesota\tnsubjpass->born<-prep<-pobj<-prep<-pobj\tBurnham was born on a Dakota Sioux Indian reservation in Minnesota where he learned the ways of American Indians as a boy .\n",
      "Joseph Rudyard Kipling\tIndia\tnsubjpass->born<-prep<-pobj\tHe was born in India , which inspired much of his work .\n",
      "Joseph Rudyard Kipling\tIndia\tnsubjpass->born<-prep<-pobj\tHe was born in India , which inspired much of his work .\n",
      "Ahmet Davutoğlu\tTurkey\tnsubj->is<-attr<-relcl<-attr<-prep<-pobj\tAhmet Davutoğlu ( ; born 26 February 1959 ) is a Turkish academic , politician and former diplomat who was the Prime Minister of Turkey and leader of the Justice and Development Party ( AKP ) from August 2014 to May 2016 .\n",
      "Roderick David Stewart\tLondon\tnsubj->is<-advcl<-conj<-prep<-pobj\tBorn and raised in London , he is of Scottish and English ancestry .\n",
      "Suharto\tIndonesia\tnsubj->csubj->was<-attr<-relcl<-prep<-pobj<-prep<-pobj\tSuharto ( also written Soeharto , ; 8 June 1921 – 27 January 2008 ) was an Indonesian military leader and politician who served as the second President of Indonesia , holding the office for 31 years , from the ousting of Sukarno in 1967 until his resignation in 1998 .\n",
      "Sonia Maria Sotomayor\tBronx\tnsubjpass->born<-prep<-pobj\tSotomayor was born in The Bronx , New York City , to Puerto Rican-born parents .\n",
      "Charles Spencer Chaplin\tLondon\tposs->childhood<-prep<-pobj\tChaplin 's childhood in London was one of poverty and hardship .\n",
      "Roderick David Stewart\tLondon\tnsubj->is<-advcl<-conj<-prep<-pobj\tBorn and raised in London , he is of Scottish and English ancestry .\n",
      "Beyoncé\tHouston\tappos->pobj->in<-pobj\tBorn and raised in Houston , Texas , Beyoncé performed in various singing and dancing competitions as a child .\n",
      "Archibald Campbell MacLaren\tEngland\tnsubj->played<-prep<-pobj\tA right-handed batsman , he played 35 Test matches for England , as captain in 22 of those games , and led the team to defeat in four Ashes series against Australia .\n",
      "Omar Ahmed Sayid Khadr\tCanada\tnsubjpass->taken<-advcl<-prep<-pobj\tBorn in Canada , Khadr was taken to Afghanistan by his father , who was affiliated with Al-Qaeda and other terrorist organizations .\n",
      "Donald John Trump\tNew York City\tnsubjpass->born<-conj<-prep<-pobj<-compound\tTrump was born and raised in the New York City borough of Queens .\n",
      "George Stanley McGovern\tSouth Dakota\tnsubj->grew<-prep<-pobj<-appos\tMcGovern grew up in Mitchell , South Dakota , where he was a renowned debater .\n",
      "Josephine Sarah\tNew York\tnsubjpass->born<-prep<-pobj\tJosephine was born in New York to a Prussian Jewish family ; her father was a baker .\n",
      "Margaret Alice Murray\tCalcutta\tnsubj->divided<-advcl<-prep<-pobj<-prep<-pobj\tBorn to a wealthy middle-class English family in Calcutta , British India , Murray divided her youth between India , Britain , and Germany , training as both a nurse and a social worker .\n",
      "William Edward Burghardt Du Bois\tGreat Barrington\tnsubj->grew<-advcl<-prep<-pobj\tBorn in Great Barrington , Massachusetts , Du Bois grew up in a relatively tolerant and integrated community .\n",
      "Roberto Luongo\tMontreal\tnsubj->is<-advcl<-prep<-pobj\tBorn in Montreal , Quebec , he is of Italian and Irish ancestry .\n",
      "John Sherman\tU.S.\tnsubj->was<-attr<-prep<-pobj<-compound\tJohn Sherman ( May 10 , 1823October 22 , 1900 ) was a politician from the U.S. state of Ohio during the American Civil War and into the late nineteenth century .\n",
      "Franz Liszt\tRaiding\tnsubjpass->born<-prep<-pobj<-prep<-pobj\tFranz Liszt was born on October 22 , 1811 , in the village of Raiding ( ) in the Kingdom of Hungary , then part of the Habsburg Empire ( and since 1920 also part of Austria ) , in Sopron County ( ) .\n",
      "John Lawrence McKenzie\tBrazil\tnsubjpass->born<-prep<-pobj<-prep<-pobj\tJohn Lawrence McKenzie ( October 9 , 1910 – March 2 , 1991 ) was born on October 9 , 1910 , in Brazil , Indiana , the first of the six children of Myra ( Daly ) and Harry McKenzie .\n",
      "Julius Kambarage Nyerere\tTanzania\tnsubj->governed<-conj<-prep<-pobj<-relcl<-dobj<-appos\tHe governed Tanganyika as its Prime Minister from 1961 to 1963 and then as its President from 1963 to 1964 , after which he led its successor state , Tanzania , as its President from 1964 until 1985 .\n",
      "Elizabeth Canning\tthe City of London\tnsubj->disappeared<-prep<-pcomp<-prep<-pobj<-prep<-pobj\tShe disappeared on 1 January 1753 , before returning almost a month later to her mother 's home in Aldermanbury in the City of London , emaciated and in a `` deplorable condition '' .\n",
      "Charles Albert\tSardinia\tnsubj->was<-attr<-prep<-pobj\tCharles Albert ( ; 2 October 1798 – 28 July 1849 ) was the King of Sardinia from 27 April 1831 to 23 March 1849 .\n",
      "Michael Collins\tWoodfield\tnsubjpass->born<-prep<-pobj\tCollins was born in Woodfield , County Cork , the youngest of eight children , and his family had republican connections reaching back to the 1798 rebellion .\n",
      "Copernicus\tthe Kingdom of Poland\tnsubjpass->born<-conj<-prep<-pobj<-appos<-relcl<-attr<-prep<-pobj\tCopernicus was born and died in Royal Prussia , a region that had been part of the Kingdom of Poland since 1466 .\n"
     ]
    }
   ],
   "source": [
    "trainingData=read_training(\"born.tsv\")\n",
    "for data in trainingData:\n",
    "    print ('\\t'.join([str(x) for x in data]))"
   ]
  },
  {
   "cell_type": "markdown",
   "metadata": {
    "id": "vgEV-vuoUZDQ"
   },
   "source": [
    "Q1: Count the syntactic paths identified in the training data.  What are the two that are most frequently attested?"
   ]
  },
  {
   "cell_type": "code",
   "execution_count": 11,
   "metadata": {
    "id": "--Mj__7qUZDQ"
   },
   "outputs": [],
   "source": [
    "trainingData=read_training(\"born.tsv\")\n",
    "synt_dict = {}\n",
    "for data in trainingData:\n",
    "    synt = data[2]\n",
    "    try:\n",
    "        synt_dict[synt] += 1\n",
    "    except KeyError:\n",
    "        synt_dict[synt] = 1\n",
    "        "
   ]
  },
  {
   "cell_type": "code",
   "execution_count": 12,
   "metadata": {},
   "outputs": [],
   "source": [
    "sort_orders = sorted(synt_dict.items(), key=lambda x: x[1], reverse=True)"
   ]
  },
  {
   "cell_type": "code",
   "execution_count": 13,
   "metadata": {},
   "outputs": [
    {
     "data": {
      "text/plain": [
       "[('nsubjpass->born<-prep<-pobj', 29),\n",
       " ('nsubjpass->born<-prep<-pobj<-prep<-pobj', 5)]"
      ]
     },
     "execution_count": 13,
     "metadata": {},
     "output_type": "execute_result"
    }
   ],
   "source": [
    "sort_orders[0:2]\n",
    "# most frequent: nsubjpass->born<-prep<-pobj\n",
    "# second most frequent: nsubjpass->born<-prep<-pobj<-prep<-pobj"
   ]
  },
  {
   "cell_type": "markdown",
   "metadata": {
    "id": "0IxKi-5IUZDQ"
   },
   "source": [
    "Q2: Write a function to read in a target file (containing one document per line) and a syntactic path and identify all people/places that are joined by that path. Hint: you can use the get_path functon defined above to retrieve the syntactic path between two tokens."
   ]
  },
  {
   "cell_type": "code",
   "execution_count": 15,
   "metadata": {},
   "outputs": [],
   "source": [
    " #helper fcn\n",
    " def has_numbers(inputString):\n",
    "     return any(char.isdigit() for char in inputString) "
   ]
  },
  {
   "cell_type": "code",
   "execution_count": 16,
   "metadata": {
    "id": "r7ar9FHhUZDR"
   },
   "outputs": [],
   "source": [
    "def extract_relations(filename, target_path):\n",
    "    \n",
    "    \"\"\" Extract new relations from a file.\n",
    "    Input: \n",
    "        - filename containing one document per line\n",
    "        - target_path: the syntactic dependency path connecting the person entity to the place entity\n",
    "    Output:\n",
    "        - a list of (person, place, path, sentence) tuples in the same format returned from `read_training`.\n",
    "    \n",
    "    \"\"\"\n",
    "    data=[]\n",
    "    \n",
    "    with open(filename) as file:\n",
    "        for line in file:\n",
    "\n",
    "            doc=line\n",
    "            #print(doc)\n",
    "\n",
    "            doc=nlp(doc)\n",
    "                \n",
    "            # Annotations are at the type level, so let's anchor them to specific mentions\n",
    "            for entity in doc.ents:\n",
    "                for entity_2 in doc.ents:\n",
    "                    if (entity != entity_2) and (not has_numbers(str(entity_2))):\n",
    "\n",
    "                        if entity is not None and entity_2 is not None:\n",
    "                    \n",
    "                            closest_person_mention=get_closest_coref(entity, doc._.coref_clusters, entity_2)\n",
    "                            if closest_person_mention is not None:\n",
    "                    \n",
    "                                path=get_path(closest_person_mention.root, entity_2.root)\n",
    "                    \n",
    "                                if path == target_path:\n",
    "                                    data.append((closest_person_mention, entity_2, path, entity_2.sent ))   \n",
    "    \n",
    "    return list(set(data))"
   ]
  },
  {
   "cell_type": "markdown",
   "metadata": {
    "id": "aYU4EFGKWkwZ"
   },
   "source": [
    "If you're executing this on Google Colab, download the wiki.bio.born.test.txt file here."
   ]
  },
  {
   "cell_type": "code",
   "execution_count": 17,
   "metadata": {
    "colab": {
     "base_uri": "https://localhost:8080/"
    },
    "id": "dNstowpRVx2x",
    "outputId": "b2e9f7db-6ea3-44dd-a0bb-2076f472682d"
   },
   "outputs": [
    {
     "name": "stdout",
     "output_type": "stream",
     "text": [
      "--2021-11-21 14:38:21--  https://raw.githubusercontent.com/dbamman/anlp21/master/data/wiki.bio.born.test.txt\n",
      "Resolving raw.githubusercontent.com (raw.githubusercontent.com)... 185.199.111.133, 185.199.109.133, 185.199.110.133, ...\n",
      "Connecting to raw.githubusercontent.com (raw.githubusercontent.com)|185.199.111.133|:443... connected.\n",
      "HTTP request sent, awaiting response... 200 OK\n",
      "Length: 144574 (141K) [text/plain]\n",
      "Saving to: ‘wiki.bio.born.test.txt.8’\n",
      "\n",
      "wiki.bio.born.test. 100%[===================>] 141.19K  --.-KB/s    in 0.02s   \n",
      "\n",
      "2021-11-21 14:38:22 (8.55 MB/s) - ‘wiki.bio.born.test.txt.8’ saved [144574/144574]\n",
      "\n"
     ]
    }
   ],
   "source": [
    "!wget https://raw.githubusercontent.com/dbamman/anlp21/master/data/wiki.bio.born.test.txt"
   ]
  },
  {
   "cell_type": "code",
   "execution_count": 18,
   "metadata": {
    "id": "_Z2Sv8zvUZDR"
   },
   "outputs": [],
   "source": [
    "#new_examples=extract_relations(\"wiki.bio.born.test.txt\", \"nsubjpass->born<-prep<-pobj\")\n",
    "#for data in new_examples:\n",
    "    #print ('\\t'.join([str(x) for x in data]))"
   ]
  },
  {
   "cell_type": "markdown",
   "metadata": {
    "id": "eIuuEVgJUZDR"
   },
   "source": [
    "Q3: Execute `extract_relations` on `wiki.bio.born.test.txt` and the two most frequent paths identified in the training data above."
   ]
  },
  {
   "cell_type": "code",
   "execution_count": 19,
   "metadata": {
    "id": "uCpj002OUZDS"
   },
   "outputs": [
    {
     "name": "stdout",
     "output_type": "stream",
     "text": [
      "Gladstone\tLiverpool\tnsubjpass->born<-prep<-pobj\tGladstone was born in Liverpool to Scottish parents .\n",
      "\n",
      "Kerry\tAurora\tnsubjpass->born<-prep<-pobj\tKerry was born in Aurora , Colorado and attended boarding school in Massachusetts and New Hampshire .\n",
      "\n",
      "He\tUetersen , Holstein\tnsubjpass->born<-prep<-pobj\tHe was born in Uetersen , Holstein , in present-day Germany .\n",
      "He\tBusseto\tnsubjpass->born<-prep<-pobj\tHe was born near Busseto to a provincial family of moderate means , and developed a musical education with the help of a local patron .\n",
      "Joel\tBronx\tnsubjpass->born<-prep<-pobj\tJoel was born in 1949 in The Bronx , New York , and grew up on Long Island , New York , both places that influenced his music .\n",
      "Bonnet\tBassillac\tnsubjpass->born<-prep<-pobj\tBonnet was born in Bassillac , Dordogne , the son of a lawyer .\n",
      "Stengel\tKansas City\tnsubjpass->born<-prep<-pobj\tStengel was born in Kansas City , Missouri .\n",
      "Julia Jackson\tCalcutta\tnsubjpass->born<-prep<-pobj\tJulia Jackson was born in Calcutta to an Anglo-Indian family , and when she was two her mother and her two sisters moved back to England .\n",
      "Rudd\tNambour\tnsubjpass->born<-prep<-pobj\tRudd was born in Nambour , Queensland .\n",
      "Agnew\tBaltimore\tnsubjpass->born<-prep<-pobj\tAgnew was born in Baltimore , to an American-born mother and a Greek immigrant father .\n",
      "He\tLouisville\tnsubjpass->born<-prep<-pobj\tHe was born in Louisville , Kentucky , to Jewish immigrant parents from Bohemia ( now in the Czech Republic ) , who raised him in a secular home .\n",
      "Biden\tScranton\tnsubjpass->born<-prep<-pobj\tBiden was born in Scranton , Pennsylvania , in 1942 , and lived there for ten years before moving with his family to Delaware .\n",
      "Bush\tNew Haven\tnsubjpass->born<-prep<-pobj\tBush was born in New Haven , Connecticut , and grew up in Texas .\n",
      "He\tGermany\tnsubjpass->born<-prep<-pobj\tHe was born in Uetersen , Holstein , in present-day Germany .\n",
      "Adams\tBoston\tnsubjpass->born<-prep<-pobj\tAdams was born in Boston , brought up in a religious and politically active family .\n",
      "\n",
      "He\tDallas\tnsubjpass->born<-prep<-pobj\tHe was born in Dallas , Texas , but raised in Chattanooga , Tennessee until moving to Atlanta , Georgia .\n",
      "Chopin\tDuchy\tnsubjpass->born<-prep<-pobj\tChopin was born Fryderyk Franciszek Chopin in the Duchy of Warsaw and grew up in Warsaw , which in 1815 became part of Congress Poland .\n",
      "Tryon\tBulwick Park\tnsubjpass->born<-prep<-pobj\tTryon was born at Bulwick Park , Northamptonshire , England , the third son of Thomas Tryon and his wife Anne Trollope .\n",
      "Hanna\tNew Lisbon\tnsubjpass->born<-prep<-pobj\tHanna was born in New Lisbon ( today Lisbon ) , Ohio , in 1837 .\n",
      "John Whitfield Bunn\tHunterdon County\tnsubjpass->born<-prep<-pobj\tJohn Whitfield Bunn was born June 21 , 1831 , in Hunterdon County , New Jersey .\n",
      "Tutu\tXhosa\tnsubjpass->born<-prep<-pobj\tTutu was born of mixed Xhosa and Motswana heritage to a poor family in Klerksdorp , British Imperial South Africa .\n",
      "\n",
      "Taft\tCincinnati\tnsubjpass->born<-prep<-pobj\tTaft was born in Cincinnati in 1857 .\n",
      "\n",
      "Foraker\tOhio\tnsubjpass->born<-prep<-pobj\tForaker was born in rural Ohio in 1846 , and enlisted at age 16 in the Union Army during the American Civil War .\n"
     ]
    }
   ],
   "source": [
    "# most frequent path\n",
    "\n",
    "new_examples=extract_relations(\"wiki.bio.born.test.txt\", \"nsubjpass->born<-prep<-pobj\")\n",
    "for data in new_examples:\n",
    "    print ('\\t'.join([str(x) for x in data]))"
   ]
  },
  {
   "cell_type": "code",
   "execution_count": 20,
   "metadata": {},
   "outputs": [
    {
     "name": "stdout",
     "output_type": "stream",
     "text": [
      "Chopin\tWarsaw\tnsubjpass->born<-prep<-pobj<-prep<-pobj\tChopin was born Fryderyk Franciszek Chopin in the Duchy of Warsaw and grew up in Warsaw , which in 1815 became part of Congress Poland .\n",
      "He\tBohemia\tnsubjpass->born<-prep<-pobj<-prep<-pobj\tHe was born in Louisville , Kentucky , to Jewish immigrant parents from Bohemia ( now in the Czech Republic ) , who raised him in a secular home .\n",
      "Joel Stephen Kovel\tBrooklyn\tnsubjpass->born<-prep<-pobj<-prep<-pobj\tJoel Stephen Kovel was born on August 27 , 1936 , in Brooklyn , New York .\n",
      "Mundy\tHammersmith\tnsubjpass->born<-prep<-pobj<-prep<-pobj\tMundy was born to a conservative middle-class family in Hammersmith , London .\n",
      "\n"
     ]
    }
   ],
   "source": [
    "# second most frequent path\n",
    "\n",
    "new_examples=extract_relations(\"wiki.bio.born.test.txt\", \"nsubjpass->born<-prep<-pobj<-prep<-pobj\")\n",
    "for data in new_examples:\n",
    "    print ('\\t'.join([str(x) for x in data]))"
   ]
  },
  {
   "cell_type": "code",
   "execution_count": null,
   "metadata": {},
   "outputs": [],
   "source": []
  }
 ],
 "metadata": {
  "colab": {
   "collapsed_sections": [],
   "name": "DependencyPatterns_TODO.ipynb",
   "provenance": []
  },
  "interpreter": {
   "hash": "bc9a4ea2f3d3ab55e09fecf1cc6b69a5cdf0fa7d44a89b98d262fdd1ecaab1c4"
  },
  "kernelspec": {
   "display_name": "Python 3.7.11 64-bit ('anlp_spacy2': conda)",
   "name": "python3"
  },
  "language_info": {
   "codemirror_mode": {
    "name": "ipython",
    "version": 3
   },
   "file_extension": ".py",
   "mimetype": "text/x-python",
   "name": "python",
   "nbconvert_exporter": "python",
   "pygments_lexer": "ipython3",
   "version": "3.7.11"
  }
 },
 "nbformat": 4,
 "nbformat_minor": 1
}
