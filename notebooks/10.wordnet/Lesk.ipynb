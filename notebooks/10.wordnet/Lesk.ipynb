{
 "cells": [
  {
   "cell_type": "code",
   "execution_count": null,
   "metadata": {},
   "outputs": [],
   "source": [
    "from gensim.scripts.glove2word2vec import glove2word2vec\n",
    "from gensim.models import Word2Vec, KeyedVectors\n",
    "from nltk.corpus import wordnet as wn\n",
    "import nltk\n",
    "import numpy as np\n",
    "from scipy.spatial.distance import cosine\n",
    "import operator"
   ]
  },
  {
   "cell_type": "code",
   "execution_count": null,
   "metadata": {},
   "outputs": [],
   "source": [
    "glove_file=\"../data/glove.6B.100d.100K.txt\"\n",
    "original_file=\"../data/glove.6B.100d.100K.w2v.txt\"\n",
    "n, dimension = glove2word2vec(glove_file, original_file)"
   ]
  },
  {
   "cell_type": "code",
   "execution_count": null,
   "metadata": {},
   "outputs": [],
   "source": [
    "wv = KeyedVectors.load_word2vec_format(original_file, binary=False)"
   ]
  },
  {
   "cell_type": "markdown",
   "metadata": {},
   "source": [
    "Q1: Implement the Lesk algorithm using word vectors \\([Basile et al. 2014](https://www.aclweb.org/anthology/C/C14/C14-1151.pdf)\\), where we measure the similarity between a gloss g = $\\{ g_1, \\ldots, g_G \\}$ and context c = $\\{ c_1, \\ldots, c_C \\}$ as the cosine similarity between the sum of distributed representations:\n",
    "\n",
    "$$\n",
    "\\cos \\left(\\sum_{i=1}^G g_i, \\sum_{i=1}^C c_i  \\right)\n",
    "$$\n",
    "\n",
    "* The gloss for a synset can be found in `synset.definition()`; be sure to tokenize it appropriately.  \n",
    "* You can find the cosine *distance* (not similarity) between two vectors using the `scipy.spatial.distance.cosine(vector_one, vector_two)` function.\n",
    "* `wn.synsets(word, pos=part_of_speech)` gets you a list of the synsets for a word with a specific part of speech (e.g., \"n\" for noun)"
   ]
  },
  {
   "cell_type": "code",
   "execution_count": null,
   "metadata": {},
   "outputs": [],
   "source": [
    "def lesk(word, sentence, part_of_speech):\n",
    "    context_tokens=nltk.word_tokenize(sentence)\n",
    "    context_vector=np.zeros(dimension)\n",
    "\n",
    "    for context_word in context_tokens:\n",
    "        if context_word in wv and context_word != word:\n",
    "            context_vector+=wv[context_word]\n",
    "            \n",
    "    synsets=wn.synsets(word, pos=part_of_speech)\n",
    "    vals={}\n",
    "    for synset in synsets:\n",
    "        tokens=nltk.word_tokenize(synset.definition())\n",
    "        vector=np.zeros(dimension)\n",
    "\n",
    "        for def_word in tokens:\n",
    "            if def_word in wv and def_word != word:\n",
    "                vector+=wv[def_word]\n",
    "        vals[synset]=1-cosine(context_vector, vector)\n",
    "    \n",
    "    sorted_x = sorted(vals.items(), key=operator.itemgetter(1), reverse=True)        \n",
    "    for k,v in sorted_x:\n",
    "        print(\"%.3f\\t%s\\t%s\"% (v,k,k.definition()))\n"
   ]
  },
  {
   "cell_type": "markdown",
   "metadata": {},
   "source": [
    "Execute the following two cells to check whether your implementation distinguishes between these two senses of \"bank\"."
   ]
  },
  {
   "cell_type": "code",
   "execution_count": null,
   "metadata": {},
   "outputs": [],
   "source": [
    "lesk(\"bank\", \"I deposited my money into my savings account at the bank\", \"n\")"
   ]
  },
  {
   "cell_type": "code",
   "execution_count": null,
   "metadata": {},
   "outputs": [],
   "source": [
    "lesk(\"bank\", \"I ran along the river bank\", \"n\")"
   ]
  },
  {
   "cell_type": "code",
   "execution_count": null,
   "metadata": {},
   "outputs": [],
   "source": []
  }
 ],
 "metadata": {
  "kernelspec": {
   "display_name": "Python 3 (ipykernel)",
   "language": "python",
   "name": "python3"
  },
  "language_info": {
   "codemirror_mode": {
    "name": "ipython",
    "version": 3
   },
   "file_extension": ".py",
   "mimetype": "text/x-python",
   "name": "python",
   "nbconvert_exporter": "python",
   "pygments_lexer": "ipython3",
   "version": "3.8.8"
  }
 },
 "nbformat": 4,
 "nbformat_minor": 2
}
